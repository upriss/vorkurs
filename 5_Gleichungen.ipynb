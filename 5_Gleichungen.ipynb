{
 "cells": [
  {
   "cell_type": "code",
   "execution_count": null,
   "id": "ed368a11-5c6f-4c65-9288-edae6f6474f4",
   "metadata": {},
   "outputs": [],
   "source": [
    "from utils.vorkurs import *"
   ]
  },
  {
   "cell_type": "markdown",
   "id": "c358a34f-7717-410c-8d1c-0835e66ce66e",
   "metadata": {
    "tags": []
   },
   "source": [
    "<h2>Gleichungen</h2>\n",
    "\n",
    "Es gibt viele Anwendungsfälle, bei denen Sachverhalte mit Variablen modelliert werden. Dafür werden oft Gleichungen verwendet. Zum Beispiel könnte man an Quadraten interessiert sein, die eine Grundfläche von 100 $m^2$ haben und dies durch eine Gleichung $x^2 = 100$ modellieren. Oder man möchte einen Prozess modellieren, bei dem man für jedes x immer den doppelten y-Wert erhält, d.h. als Gleichung geschrieben: $y = 2x$. Bevor der Erfindung von Computern musste man Verfahren lernen, mit denen man solche Gleichungen von Hand umformen kann, zum Beispiel um herauszufinden, für welche Werte  die Gleichung erfüllbar ist. Heutzutage braucht man solche Umformungen eigentlich nicht mehr von Hand auszuführen, da es dafür Computerprogramme gibt. Aber man muss immer noch verstehen, wie man Sachverhalte durch Gleichungen modelliert, welche Umformungsmöglichkeiten es gibt und wie man Ergebnisse des Computers überprüfen kann.\n",
    "\n",
    "In Python müssen Gleichungen so umgeformt werden, dass auf einer Seite 0 steht. D.h. $x^2 = 100$ muss zu $x^2 - 100 = 0$ umgeformt werden und $y = 2x$ zu $y - 2x = 0$. Dann kann man sich Lösungen von Python anzeigen lassen (verwenden Sie dabei als Variablen in diesem Notebook nur die Großbuchstaben X, Y oder Z):"
   ]
  },
  {
   "cell_type": "code",
   "execution_count": null,
   "id": "a1896ca5-62bc-4775-b39e-c0111567b788",
   "metadata": {},
   "outputs": [],
   "source": [
    "solve(X**2 - 100)\n",
    "solve(Y - 2*X)"
   ]
  },
  {
   "cell_type": "markdown",
   "id": "35fb932f-851b-44a3-83c7-de09f3d1a22b",
   "metadata": {},
   "source": [
    "In diesem Fall gibt es für die erste Gleichung zwei Lösungen (-10 und 10), von denen im oben genannten Anwendungsfall nur der Wert 10 relevant ist. Für die zweite Gleichung gibt es keinen einzelnen Lösungswert, sondern ein Verhältnis zwischen den Variablen nämlich, das ein x genau y/2 entspricht. (Widerspricht das dem oben modellierten Prozess, der für ein x den doppelten y-Wert liefern soll? Das kommt darauf an, was man genau mit \"liefern\" meint. Schauen Sie sich die graphische Darstellung im nächsten Abschnitt an und entscheiden Sie selbst, ob die Modellierung passt oder nicht.)\n",
    "\n",
    "<h3>Aufgaben</h3>\n",
    "\n",
    "Formen Sie die folgenden Gleichungen so um, dass Sie darauf solve anwenden können, d.h. auf einer Seite muss 0 stehen. Zum Beispiel:\n",
    "\n",
    "15$x^2$ - 10 = 50 <br>\n",
    "15$x^2$ - 10 - 50 = 50 - 50 | auf beiden Seiten 50 abziehen<br>\n",
    "15$x^2$ - 60 = 0"
   ]
  },
  {
   "cell_type": "code",
   "execution_count": null,
   "id": "9a893c94-b56d-487a-8d35-7bb5f1746ed7",
   "metadata": {},
   "outputs": [],
   "source": [
    "solve(15*X**2-60)"
   ]
  },
  {
   "cell_type": "markdown",
   "id": "f71ad880-2c89-4d81-8af2-f7fd69963722",
   "metadata": {},
   "source": [
    "Überprüfen Sie dann das Ergebnis, das Sie mit Python erhalten, indem Sie es in die ursprüngliche Gleichung einsetzen:"
   ]
  },
  {
   "cell_type": "code",
   "execution_count": null,
   "id": "fb5f008d-94d2-484b-a00e-6b14c48996e5",
   "metadata": {},
   "outputs": [],
   "source": [
    "15 * (-2)**2 - 10 == 50\n",
    "15 * 2**2 - 10 == 50"
   ]
  },
  {
   "cell_type": "markdown",
   "id": "b315f7d7-8d9a-4c27-89bd-fba83ba91894",
   "metadata": {},
   "source": [
    "Lösen auf die gleiche Art mit Python:\n",
    "    \n",
    "$X^2 -5 * X = 7$<br>\n",
    "$X + 3 * (X-5) = X - 2 *(X+5)$<br>\n",
    "$X^3 + 2* X = 3 * X^2$<br>\n",
    "$2^X = 64$<br>\n",
    "$10^{(1-X)} = \\frac{1}{100}$"
   ]
  },
  {
   "cell_type": "code",
   "execution_count": null,
   "id": "eb44cbd1-228b-4bd5-ad1a-d372a198099b",
   "metadata": {},
   "outputs": [],
   "source": []
  },
  {
   "cell_type": "markdown",
   "id": "76cdf9d2-e290-4245-a59c-a6af46b95199",
   "metadata": {
    "tags": []
   },
   "source": [
    "<h2>Graphische Darstellung</h2>\n",
    "\n",
    "Für die graphische Darstellung von Gleichungen mit 2 Variablen gibt es in diesem Notebook den Befehl \"zeichnen\". Verwenden Sie dafür aber die Kleinbuchstaben x und y. Zum Beispiel:"
   ]
  },
  {
   "cell_type": "code",
   "execution_count": null,
   "id": "cd1160da-3c10-4fce-ad0e-397c165950c0",
   "metadata": {},
   "outputs": [],
   "source": [
    "y = 2*x\n",
    "zeichnen (x,y)"
   ]
  },
  {
   "cell_type": "markdown",
   "id": "2f307d8b-40b2-4557-bb69-a9a23980b896",
   "metadata": {},
   "source": [
    "Überlegen Sie jetzt, ob diese Darstellung einen Prozess modelliert, bei dem man für jedes x immer 2y erhält. Dies entspricht der Gleichung $y = 2x$ und dazu äquivalent $x = \\frac{y}{2}$. Es ist immer wichtig, dass man am Ende einer Rechnung noch mal schaut, ob ein Ergebnis überhaupt stimmen kann."
   ]
  },
  {
   "cell_type": "markdown",
   "id": "f12ac289-a368-4d67-b9c5-e38b9aea6663",
   "metadata": {},
   "source": [
    "<b>Lineare Gleichungen</b> sind Gleichungen, bei denen die Variablen den \n",
    "Exponenten 1 haben. Ihre Graphen sind Geraden. Schauen Sie sich die Graphen\n",
    "dieser Gleichungen mit Python an:\n",
    "\n",
    "y = x<br>\n",
    "y = -x<br>\n",
    "y = x + 2<br>\n",
    "y = x - 2<br>\n",
    "y = 10 * x\n",
    "\n",
    "Was fällt Ihnen auf? Wann ist die Gerade steiler, flacher, steigt oder fällt? Wann verschiebt sich die Gerade entlang der X-Achse?"
   ]
  },
  {
   "cell_type": "code",
   "execution_count": null,
   "id": "cc586d43-9be2-4908-a0bc-a024871b8493",
   "metadata": {},
   "outputs": [],
   "source": [
    "y = x\n",
    "zeichnen (x,y)"
   ]
  },
  {
   "cell_type": "markdown",
   "id": "015610a1-17c5-44b2-a2b3-bedf502d52b1",
   "metadata": {},
   "source": [
    "In <b>Polynom-Gleichungen</b> kann eine Variable auch höhere Exponenten haben. Zum Beispiel $y = x^6 + 15x^4 + x^2 +x -3$ oder $y = x^2 +x -3$. Dabei ist die letztere eine <b>quadratische Gleichung</b>, da der höchste Exponent 2 ist. Wenn Sie das nächste Feld ausführen, sehen Sie Graphen der Gleichungen <br>\n",
    "$y = x$<br>\n",
    "$y = x^2$<br>\n",
    "$y = x^3$<br>\n",
    "$y = x^4$<br>\n",
    "$y = x^5$<br>\n",
    "Bestimmen Sie, welcher Graph zu welcher der Gleichungen gehört. Berechnen Sie dafür die y-Werte für x=2 und x=-2 und schauen Sie, zu welchem Graph die jeweils gehören. Was passiert mit den Graphen, wenn die Exponenten höher werden? Für welche Exponenten können negative y-Werte herauskommen?"
   ]
  },
  {
   "cell_type": "code",
   "execution_count": null,
   "id": "357e99d4-0c9d-4671-aec2-f2e2a84817a0",
   "metadata": {},
   "outputs": [],
   "source": [
    "groesserEins()"
   ]
  },
  {
   "cell_type": "markdown",
   "id": "17b314e0-a840-4d99-a7c0-5105b5ef6823",
   "metadata": {},
   "source": [
    "<b>Wurzelgleichungen</b>: Wenn Sie das nächste Feld ausführen, sehen Sie Graphen der Gleichungen <br>\n",
    "$y = x$<br>\n",
    "$y = x^{0.9}$<br>\n",
    "$y = x^{0.5}$<br>\n",
    "$y = x^{0.2}$<br>\n",
    "$y = x^0$<br>\n",
    "Zur Erinnerung: $x^\\frac{1}{2} = \\sqrt x$. Es handelt sich also um Wurzeln. Nicht alle Wurzeln negativer Zahlen sind reelle Zahlen. Daher sind die Graphen nur für positive x-Werte gezeichnet.\n",
    "Bestimmen Sie, welcher Graph zu welcher der Gleichungen gehört. Berechnen Sie dafür die y-Werte für x=2 und x=-2 und schauen Sie, zu welchem Graph die jeweils gehören.  Wie sehen die Graphen also aus, wenn die Exponenten zwischen 0 und 1 liegen? "
   ]
  },
  {
   "cell_type": "code",
   "execution_count": null,
   "id": "89e683af-acd7-4622-ba35-1cbbbfbcf720",
   "metadata": {},
   "outputs": [],
   "source": [
    "nullBisEins()"
   ]
  },
  {
   "cell_type": "markdown",
   "id": "95f35ed6-f309-4f69-899d-422db45c4b22",
   "metadata": {},
   "source": [
    "<b>Gleichungen mit negativen Exponenten</b>: Wenn Sie das nächste Feld ausführen, sehen Sie Graphen der Gleichungen <br>\n",
    "$y = x^{-1}$<br>\n",
    "$y = x^{-2}$<br>\n",
    "$y = x^{-3}$<br>\n",
    "$y = x^{-4}$<br>\n",
    "Zur Erinnerung: $x^{-z} = \\frac{1}{x^z}$. \n",
    "Bestimmen Sie, welcher Graph zu welcher der Gleichungen gehört. Berechnen Sie dafür die y-Werte für x=2 und x=-2 und schauen Sie, zu welchem Graph die jeweils gehören. Wie sehen die Graphen also aus, wenn die Exponenten kleiner als -1 sind? Stimmen die Graphen mit Ihrer Intuition bezüglich Brüchen überein: wann ist ein Bruch der Form $\\frac{1}{x}$ größer als 1, zwischen 1 und -1 oder kleiner als -1?"
   ]
  },
  {
   "cell_type": "code",
   "execution_count": null,
   "id": "b41c256d-bc13-4b75-8866-096218fc9c46",
   "metadata": {},
   "outputs": [],
   "source": [
    "kleinerNull()"
   ]
  },
  {
   "cell_type": "markdown",
   "id": "8b1520d5-d81c-4752-8e65-678e4a265e28",
   "metadata": {},
   "source": [
    "<b>Exponential-Gleichungen</b> sind Gleichungen, bei denen die Variable im Exponenten auftaucht. Wenn Sie das nächste Feld ausführen, sehen Sie die Graphen für $y = 2^x$ und $y = x^2$. Bestimmen Sie wieder, welcher Graph zu welcher Gleichung gehört. Beachten Sie, dass die Achsen in diesem Beispiel unterschiedlich gestreckt sind. Die y-Werte wachsen nämlich bei Exponential-Gleichungen sehr schnell."
   ]
  },
  {
   "cell_type": "code",
   "execution_count": null,
   "id": "b2fd8a9f-15d1-4fae-af95-e83d0b60c06e",
   "metadata": {},
   "outputs": [],
   "source": [
    "exponential()"
   ]
  },
  {
   "cell_type": "markdown",
   "id": "6d646238-092d-477a-ad05-78e9840fdb90",
   "metadata": {},
   "source": [
    "<h2>Gleichungen umformen</h2>\n",
    "\n",
    "Wenn man Gleichungen nicht per Computer sondern von Hand bearbeiten möchte, gibt es für jeden Typ von Gleichungen Lösungsverfahren, die man anwenden kann. Für alle Gleichungen gilt, dass man bei Umformungen immer auf beiden Seiten des Gleichheitszeichens das Gleiche tun muss, damit die Gleichheit erhalten bleibt. Nicht alle Umformungen sind erlaubt, zum Beispiel darf man nicht mit 0 multiplizieren oder durch 0 teilen. Hier eine Übersicht über die Lösungsverfahren:\n",
    "<ul>\n",
    "    <li><b>Lineare Gleichungen</b>: so umformen, dass eine Variable isoliert wird.\n",
    "<li><b>Quadratische Gleichungen</b>: muss man zunächst in die Form $x^2 + px - q = 0$ bringen und kann dann die Lösungsformel: $x_{1,2} = -\\frac{p}{2} \\pm \\sqrt{\\frac{p^2}{4} - q}$ anwenden.\n",
    "<li><b>Polynom-Gleichungen</b>: falls der größte Exponent $\\leq$ 4 ist, gibt es Lösungsformeln, die man anwenden kann.\n",
    "<li><b>Bruchgleichungen</b>: wenn Brüche vorkommen multipliziert man die Gleichung auf beiden Seiten solange mit Teilern der Nenner, bis die Brüche verschwunden sind. Dabei muss man aber aufpassen, dass man nicht mit 0 multipliziert. Wenn man z.B. mit $(x-1)$ multipliziert, dann muss man $x=1$ aus der Lösungsmenge ausschließen.\n",
    "<li><b>Wurzelgleichungen</b>: Wurzel auf einer Seite isolieren und mit dem Wurzelexponenten potenzieren. Das solange wiederholen, bis alle Wurzeln verschwunden sind. Achtung: da es negative und positive Wurzeln gibt, muss man beim Potenzieren Fälle unterscheiden.\n",
    "<li><b>Exponentialgleichungen</b>: kann man durch Logarithmieren lösen.\n",
    "</ul>   \n",
    "\n",
    "Die Liste ist übrigens nicht vollständig. Es gibt auch Gleichungen mit trigonometrischen Funktionen, Integralen, Ableitungen und so weiter.\n"
   ]
  },
  {
   "cell_type": "markdown",
   "id": "88b58716-6b98-4ce0-afc4-c7c66eb4f3be",
   "metadata": {},
   "source": [
    "<h3>Übungsaufgaben</h3>\n",
    "\n",
    "Man kann viel Zeit mit dem Üben der verschiedenen Verfahren verbringen. Allerdings sind vermutlich nicht alle gleich wichtig. Lineare Gleichungen sind tendenziell am Wichtigsten. Die <b>wichtigen Fähigkeiten</b>, die man für Umformungen benötigt (sowohl für Gleichungen als auch für andere mathematische Probleme) sind: 1. ein Gefühl dafür zu entwickeln, <b>welches Verfahren wann sinnvoll ist</b> und 2. beim Umformen komplexer Ausdrücke alle <b>Rechenregeln richtig anzuwenden</b>, d.h. auch nichts zu übersehen, keine Vorzeichen zu vertauschen, richtig zu klammern usw. Falls Sie insbesondere in der 2. Fähigkeit nicht sicher sind, sollten Sie weitere Übungsaufgaben zum Umformen von Gleichungen bearbeiten (zum Beispiel in dem empfohlenen Buch \"Vorkurs Mathematik\"). Vermutlich brauchen Sie dafür mehr Zeit, als Sie in diesem Vorkurs haben. Das sollten Sie also auch in Zukunft noch weiter trainieren.\n",
    "\n",
    "Hier ist ein Beispiel, bei dem alle Umformungen <b>falsch</b> sind. Finden Sie jeweils den Fehler:\n",
    "\n",
    "10x + 11 = 16 &nbsp; | 6 abziehen<br>\n",
    "&nbsp;&nbsp;&nbsp;4x + 5 = 10 &nbsp;| durch 5 teilen<br>\n",
    "&nbsp;&nbsp;&nbsp;&nbsp;4x + 1 = 2 &nbsp;&nbsp;| 1 abziehen<br> \n",
    "&nbsp;&nbsp;&nbsp;&nbsp;&nbsp;&nbsp;&nbsp;&nbsp;&nbsp;&nbsp;\n",
    "4x = 3 &nbsp;| mit 3/4 multiplizieren<br>\n",
    "&nbsp;&nbsp;&nbsp;&nbsp;&nbsp;&nbsp;&nbsp;&nbsp;&nbsp;&nbsp;&nbsp;&nbsp;x = 9\n",
    "\n",
    "Python zeigt, dass die Umformungen falsch sind, weil sich bei richtigen Umformungen das Ergebnis nicht ändern darf:"
   ]
  },
  {
   "cell_type": "code",
   "execution_count": null,
   "id": "7edee6dc-f866-4ba5-bf56-1a90bbf48ae9",
   "metadata": {},
   "outputs": [],
   "source": [
    "solve(10*X +11 - 16)\n",
    "solve(4*X + 5 - 10)\n",
    "solve(4*X +1 -2)\n",
    "solve(4*X - 3)"
   ]
  },
  {
   "cell_type": "code",
   "execution_count": null,
   "id": "f8641e75-8f3e-4864-b06e-0fdaca142b6b",
   "metadata": {},
   "outputs": [],
   "source": []
  }
 ],
 "metadata": {
  "kernelspec": {
   "display_name": "Python 3 (ipykernel)",
   "language": "python",
   "name": "python3"
  },
  "language_info": {
   "codemirror_mode": {
    "name": "ipython",
    "version": 3
   },
   "file_extension": ".py",
   "mimetype": "text/x-python",
   "name": "python",
   "nbconvert_exporter": "python",
   "pygments_lexer": "ipython3",
   "version": "3.10.8"
  }
 },
 "nbformat": 4,
 "nbformat_minor": 5
}
