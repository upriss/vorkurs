{
 "cells": [
  {
   "cell_type": "code",
   "execution_count": null,
   "id": "c4be0b36-34c1-43c1-8358-58d039a4703e",
   "metadata": {},
   "outputs": [],
   "source": [
    "from utils.vorkurs import *"
   ]
  },
  {
   "cell_type": "markdown",
   "id": "55a416bb-6a7f-40bd-86cf-fe3993bca5a0",
   "metadata": {},
   "source": [
    "<h2>Testen Sie Ihre Vorkenntnisse</h2>\n",
    "\n",
    "Wenn Sie das folgende Feld ausführen, erhalten Sie einen Quiz, mit dem Sie Kenntnisse in diesem Gebiet überprüfen können. Sie sollten die Aufgaben ohne Taschenrechner durch Anwenden von Rechenregeln lösen können."
   ]
  },
  {
   "cell_type": "code",
   "execution_count": null,
   "id": "7ccb3f7b-7fef-4abe-9b73-b9c796d12079",
   "metadata": {},
   "outputs": [],
   "source": [
    "%%html \n",
    "\n",
    "<iframe src=\"quizzes/vorkursPotenzen.html\" width= 100% height=700></iframe>"
   ]
  },
  {
   "cell_type": "markdown",
   "id": "69b4b9ef-1520-47bb-baf8-dc2e032321df",
   "metadata": {},
   "source": [
    "Hier nochmal die Bezeichnungen für Potenzen und Wurzeln:\n",
    "\n",
    "<center><img src=\"https://upriss.github.io/educaJS/images/potenz.png\" width=\"70%\"> </center>\n",
    "\n",
    "Potenz-, Wurzel- und Logarithmenrechnung stehen in einem engen Zusammenhang, da es sich um 3 Sichtweisen der gleichen Beziehung handelt:\n",
    "\n",
    "<center><img src=\"https://upriss.github.io/educaJS/images/potenz2.png\" width=\"60%\"></center>\n",
    "\n",
    "<p>Zum Beispiel: $4^3 = 64$ &nbsp; &nbsp; $\\sqrt[3]{64} = 4$ &nbsp; &nbsp; $64^{1/3} = 4$ &nbsp; &nbsp;$log_4(64) = 3$.</p> "
   ]
  },
  {
   "cell_type": "markdown",
   "id": "2368d49e-230c-4914-b2a5-d8d03cf49cbb",
   "metadata": {},
   "source": [
    "<h2>Regeln für Potenzen und Wurzeln</h2>\n",
    "\n",
    "Anstatt $\\sqrt[n]{b}$ kann man auch $b^\\frac{1}{n}$ schreiben. Daher lassen sich die Regeln für Wurzeln direkt aus den Regeln für Potenzrechnung herleiten.\n",
    "\n",
    "<table>\n",
    "    <tr><td>$\\mbox{Potenzen}$<td>$\\mbox{Wurzeln}$</tr>\n",
    "    <tr><td>$a^n * b^n = (ab)^n$ <td>$\\sqrt[n]{a}\\sqrt[n]{b}=\\sqrt[n]{ab}$</tr>\n",
    "    <tr><td>$a^n / b^n = (a/b)^n$ <td>$\\sqrt[n]{a} : \\sqrt[n]{b}=\\sqrt[n]{a/b}$</tr>\n",
    "    <tr><td>$a^n * a^m = a^{n + m}$<td>$\\sqrt[n]{a}\\sqrt[m]{a}=a^{\\frac{1}{n} + \\frac{1}{m}}$</tr>\n",
    "    <tr><td>$a^n : a^m = a^{n - m}$<td>$\\sqrt[n]{a} : \\sqrt[m]{a}=a^{\\frac{1}{n} - \\frac{1}{m}}$</tr>\n",
    "    <tr><td>$(a^n)^m = a^{n*m}$<td>$\\sqrt[m]{\\sqrt[n]{a}} = \\sqrt[nm]{a}$</tr>\n",
    "</table>\n",
    "\n",
    "<h3>Aufgaben</h3>\n",
    "\n",
    "Die Regeln lassen sich durch Umformungen erklären. Überlegen Sie sich, was jeweils dort stehen muss\n",
    "oder erklärt werden muss, wo in den folgenden Zeilen das Wort \"Umformung\" steht. Falls es Ihnen nicht klar ist, setzen Sie Werte für  $n$ und $m$ ein und schreiben Sie die Formeln dafür hin.\n",
    "\n",
    "$a^n * b^n = a * \\ldots * a * b * \\ldots * b =$ Umformung $= (ab)^n $<br>\n",
    "\n",
    "$a^n * a^m =$ Umformung $= a^{n + m}$\n",
    "\n",
    "$(a^n)^m =$ Umformung $= a^{n*m}$\n",
    "\n",
    "$\\sqrt{a}\\sqrt{a}=$ Umformung $=a$\n",
    "    \n",
    "<h3>Weitere Aufgaben</h3>\n",
    "\n",
    "In Python ist die Schreibweise für Exponenten \\*\\*, z.B. $4^3$ wird als 4\\*\\*3 geschrieben. Es gibt in Python eine Funktion für Quadratwurzeln (sqrt(), da Wurzel auf Englisch square root heißt). Für n-te Wurzeln kann man mit \\*\\*(1/n) zu rechnen. Python nähert die Werte dann aber eventuell nur an. Rechnen Sie erst auf Papier durch Anwendung von Regeln und in mathematischer Schreibweise, bevor Sie die Felder ausführen."
   ]
  },
  {
   "cell_type": "code",
   "execution_count": null,
   "id": "48746a16-99a2-4b87-a1bd-5e2e3347492c",
   "metadata": {},
   "outputs": [],
   "source": [
    "3**2 * 3**(-1)\n",
    "3**20 / 3**18\n",
    "30**3 / 15**3\n",
    "1**200"
   ]
  },
  {
   "cell_type": "markdown",
   "id": "edc248da-f551-42ef-b21b-00fd59d2d082",
   "metadata": {},
   "source": [
    "Für welche Werte von $n$ gilt $(-1)^n = 1$ und für welche gilt $(-1)^n = -1$?"
   ]
  },
  {
   "cell_type": "code",
   "execution_count": null,
   "id": "9e58e148-e2ba-4cbf-bedc-e17d51d544ea",
   "metadata": {},
   "outputs": [],
   "source": [
    "(-1)**1\n",
    "(-1)**2\n",
    "(-1)**3\n",
    "(-1)**4\n",
    "(-3)**2\n",
    "(-3)**3\n",
    "-(3**2)"
   ]
  },
  {
   "cell_type": "code",
   "execution_count": null,
   "id": "97ef8bc8-0483-4983-9d33-dfa96d05746e",
   "metadata": {},
   "outputs": [],
   "source": [
    "simplify(m**2 * m**3)\n",
    "simplify(m**2 + m**3)\n",
    "simplify(m**n * m**n)\n",
    "simplify(m**n / m**n)\n",
    "simplify(m**n + m**n)\n",
    "simplify(m**n - m**n)\n",
    "simplify((m**3)**4)"
   ]
  },
  {
   "cell_type": "code",
   "execution_count": null,
   "id": "e562c870-3360-43f3-ac86-b8b2e5ccb269",
   "metadata": {},
   "outputs": [],
   "source": [
    "sqrt(49 * 25)\n",
    "(49 * 25)**(1/2)\n",
    "sqrt(25 / 4)\n",
    "(25 / 4)**(1/2)\n",
    "(17**(1/4))**4"
   ]
  },
  {
   "cell_type": "markdown",
   "id": "144f62bc-542a-458e-abc2-2284478ab7d5",
   "metadata": {},
   "source": [
    "<h3>Wurzeln aus negativen Zahlen</h3>\n",
    "\n",
    "sqrt(49) liefert in Python nur ein Ergebnis, obwohl sowohl $7^2 = 49$ als auch $(-7)^2 = 49$. Quadratwurzeln aus negativen Zahlen ergeben <b>komplexe Zahlen</b>, die in diesem Vorkurs nicht weiter behandelt werden. Für eine ungerade Zahl $n$ ist die n-te Wurzel aus einer negativen Zahl eine reelle Zahl, z.B. $\\sqrt[3]{-27} = -3$, d.h., das können Sie berechnen. Python berechnet dabei aber die sogenannte Hauptwurzel, welche eine komplexe Zahl ist und hier nicht weiter erläutert werden soll. "
   ]
  },
  {
   "cell_type": "code",
   "execution_count": null,
   "id": "0b8f946a-87ec-4948-a530-c410fb06595b",
   "metadata": {},
   "outputs": [],
   "source": [
    "sqrt(49)\n",
    "7**2\n",
    "(-7)**2\n",
    "(27)**(1/3)\n",
    "(-3)**3\n",
    "(-27)**(1/3)"
   ]
  },
  {
   "cell_type": "markdown",
   "id": "07c45e05-463e-4132-9544-2b1378310a77",
   "metadata": {},
   "source": [
    "<h2>Potenzrechnung statt Bruchrechnung</h2>\n",
    "\n",
    "Man kann auf die Bruchrechnung komplett verzichten, wenn man mit negativen Potenzen rechnet. Anstatt $\\frac{1}{n}$ kann man nämlich auch $n^{-1}$ schreiben.\n",
    "\n",
    "<h3>Aufgaben</h3>\n",
    "\n",
    "1. Erklären Sie das Ergebnis für $3^0$ mit Hilfe der Rechenregeln für $3^{2-2}$ und indem Sie $3^{-2}$ als $\\frac{1}{3^2}$ schreiben:"
   ]
  },
  {
   "cell_type": "code",
   "execution_count": null,
   "id": "d874f223-79b0-43f3-9d9e-d891c857722a",
   "metadata": {},
   "outputs": [],
   "source": [
    "3**0\n",
    "3**(2-2)\n",
    "3**(-2)\n",
    "1/9"
   ]
  },
  {
   "cell_type": "markdown",
   "id": "ac85f3aa-6291-4cbb-835b-2cf2d1717bfd",
   "metadata": {},
   "source": [
    "2.  Schreiben Sie diese Beispiele ohne Potenzen als reine Bruchrechnung und erklären Sie die Regeln der Bruchrechnung mit den Regeln der Potenzrechnung:\n",
    "\n",
    "<ul>\n",
    "    <li><b>Kürzen und erweitern:</b><br> $\\frac{3}{4} = 3 * 4^{-1} = 3 * 1 * 4^{-1} = 3 * 6 * 6^{-1} * 4^{-1}$ $= 18 * 24^{-1}$</li>\n",
    "    <li><b>Addieren und subtrahieren</b>:<br> $\\frac{3}{4} + \\frac{7}{5} = 3 * 4^{-1} + 7 * 5^{-1} = 3 * 5 * 5^{-1}  * 4^{-1} + 7 * 4 * 4^{-1}  * 5^{-1}$<br>$ = 15 * 20^{-1} + 28 * 20^{-1} $\n",
    "        $=(15 + 28) * 20^{-1} = 43 * 20^{-1}$\n",
    "    <li><b>Multiplizieren</b><br> $\\frac{3}{4} * \\frac{7}{5} = 3 * 4^{-1} * 7 * 5^{-1} = 3 * 7 * 4^{-1} * 5^{-1} = 21 * 20^{-1}$\n",
    "    <li><b>Dividieren</b>:<br> $\\frac{3}{4} : \\frac{7}{5} = (3 * 4^{-1}) : (7 * 5^{-1}) = 3 * 4^{-1} * 7^{-1} * (5^{-1})^{-1}$<br>$  = 3 * (4 * 7)^{-1} * 5 = 3 * 5 * 28^{-1} = 15 * 28^{-1}$\n",
    "        </ul>\n",
    "        \n",
    "Falls Sie sich nicht sicher sind, überprüfen Sie einzelne Schritte mit Python."
   ]
  },
  {
   "cell_type": "code",
   "execution_count": null,
   "id": "943a5f68-6a7a-436a-8146-ea1533965b7c",
   "metadata": {},
   "outputs": [],
   "source": []
  },
  {
   "cell_type": "markdown",
   "id": "3a8aa9b8-e255-4c0a-86dc-6a387140cc08",
   "metadata": {},
   "source": [
    "<h2>Logarithmen</h2>\n",
    "\n",
    "Bei Logarithmen kennt man die Basis und das Ergebnis und sucht den Exponenten. Wenn Sie zum Beispiel die Potenzen von 2 betrachten (1, 2, 4, 8, 16, ...), können Sie durch Ausprobieren den Exponenten bestimmen, den man braucht um 256 zu erhalten. Die Zahl 2 wird dabei als <b>Basis</b> bezeichnet, die Zahl 256 als <b>Argument</b> oder <b>Numerus</b> bezeichnet."
   ]
  },
  {
   "cell_type": "code",
   "execution_count": null,
   "id": "ef26617d-a50b-4fc4-a81f-cde188b30d26",
   "metadata": {},
   "outputs": [],
   "source": [
    "2**3\n",
    "2**4\n",
    "2**5\n"
   ]
  },
  {
   "cell_type": "markdown",
   "id": "00a4030d-c533-4b87-a684-e59abbda083b",
   "metadata": {},
   "source": [
    "Das Argument 64 können Sie sogar als Potenz verschiedener Basen darstellen:"
   ]
  },
  {
   "cell_type": "code",
   "execution_count": null,
   "id": "f982d491-43f6-486f-bd66-a5f07a279637",
   "metadata": {},
   "outputs": [],
   "source": [
    "2**6\n",
    "4**3\n",
    "8**2"
   ]
  },
  {
   "cell_type": "markdown",
   "id": "3617ccc9-3cf2-41b6-b4d2-b687e3d2a099",
   "metadata": {},
   "source": [
    "Man bezeichnet das Finden des Exponenten als <b>Logarithmieren</b>. In Python verwendet man dafür $log(a,b)$, wobei $a$ das Argument ist und $b$ die Basis. "
   ]
  },
  {
   "cell_type": "code",
   "execution_count": null,
   "id": "ac0d2cc3-d688-45d8-a73e-4f4228669f75",
   "metadata": {},
   "outputs": [],
   "source": [
    "log(256,2)\n",
    "log(64,2)\n",
    "log(64,4)\n",
    "log(64,8)"
   ]
  },
  {
   "cell_type": "markdown",
   "id": "dbdd24e2-d2f0-47d5-98a4-876a9ee8fd3d",
   "metadata": {},
   "source": [
    "Dabei müssen a und b reelle Zahlen sein, die größer als 0 sind und b darf auch nicht 1 sein. Aufgabe: überlegen Sie sich, warum b nicht 1 sein darf.\n",
    "\n",
    "Berechnen Sie die folgenden Werte. Rechnen Sie wieder erst, bevor Sie das Feld ausführen:"
   ]
  },
  {
   "cell_type": "code",
   "execution_count": null,
   "id": "ed26f1ce-71d7-44d0-af9e-29b81d470efc",
   "metadata": {},
   "outputs": [],
   "source": [
    "log(9,3)\n",
    "log(144,12)\n",
    "log(1/9,3)\n",
    "log(1,6)\n",
    "log(4**5,4)"
   ]
  },
  {
   "cell_type": "markdown",
   "id": "3bbd636d-d9a3-4e46-a91e-3febe357f2bf",
   "metadata": {},
   "source": [
    "Die Regeln für das Rechnen mit Logarithmen ergeben sich aus den Rechenregeln für Potenzen.\n",
    "\n",
    "<table>\n",
    "    <tr><td>$\\mbox{Potenzen}$<td>$\\mbox{Logarithmen}$</tr>\n",
    "    <tr><td><td> $b^{log_b(k)} = k$\n",
    "    <tr><td>$b^n * b^m = b^{n + m}$<td>$log_b(nm) = log_b(m) + log_b(n)$</tr>\n",
    "    <tr><td>$b^n : b^m = b^{n - m}$<td>$log_b(n:m) = log_b(n) - log_b(m)$</tr>\n",
    "    <tr><td>$(b^n)^m = b^{n*m}$<td>$log_b(m^k) = k * log_b(m)$</tr>\n",
    "<tr><td>$b^0=1$ <td> $log_b(1) = 0$\n",
    "<tr><td>$b^1=b$  <td> $log_b(b) = 1$\n",
    "<tr><td>$b^k=b^k$  <td> $log_b(b^k) = k$\n",
    "</table>\n",
    " \n",
    "Zum Beispiel gilt die zweite Zeile, da $nm=b^{log_b(nm)}=\n",
    "    b^{log_b(m)+log_b(n)} =   b^{log_b(n)} * b^{log_b(m)} = nm$.<br>\n",
    "Die Gültigkeit der letzten drei Zeilen sollten Sie erklären können.\n",
    "    \n",
    "Bevor es Computer gab, war das Rechnen mit Logarithmen extrem wichtig, weil man damit zum Beispiel Berechnungen für große Zahlen durchführen und Wurzeln ziehen konnte. Das Rechnen mit Logarithmen war aber auch sehr mühsam, weil man viele Schritte von Hand ausführen musste und dabei Werte in speziellen Logarithmentafeln ablesen musste. Dafür mussten man auch Logarithmen auf die jeweils gewünschte Basis umrechnen. Die Formel für die Umrechnung von einer Basis $b$ auf eine Basis $c$ ist:\n",
    "    <center>$log_c(m) = \\frac{log_b(m)}{log_b(c)}$\n",
    "        \n",
    "Für Logarithmen gibt es viele Anwendungen, da es technische und natürliche Prozesse gibt, die sich gut damit beschreiben lassen. Für die wichtigsten Basen kann man Logarithmen in Python noch einfacher schreiben: log10(n) ist der Logarithmus zur Basis 10, also das Gleiche wie log(n,10) und log2(n) ist der Logarithmus zur Basis 2. Außerdem ist log(n) ohne Angabe einer Basis der Logarithmus zur Basis e. Die Zahl e wird aber in diesem Vorkurs nicht weiter behandelt."
   ]
  },
  {
   "cell_type": "code",
   "execution_count": null,
   "id": "94218aba-dab5-4cbb-bc57-bed1d91488b7",
   "metadata": {},
   "outputs": [],
   "source": [
    "log2(8)\n",
    "log(8,2)\n",
    "log10(100)\n",
    "log10(100000)"
   ]
  },
  {
   "cell_type": "markdown",
   "id": "db175f08-7d15-4d4a-b0de-b865f92d6382",
   "metadata": {},
   "source": [
    "Dabei sehen Sie, dass log10 angibt, wie oft der Faktor 10 im Argument steckt. Man kann damit feststellen, wie viele Stellen eine Zahl hat (nämlich log10 abgerundet + 1). Wie viele Stellen hat zum Beispiel die Zahl 122243242525043503:"
   ]
  },
  {
   "cell_type": "code",
   "execution_count": null,
   "id": "4ca57f45-adf6-407a-a635-82ac546f2b6d",
   "metadata": {},
   "outputs": [],
   "source": [
    "log10(122243242525043503)"
   ]
  },
  {
   "cell_type": "code",
   "execution_count": null,
   "id": "30b70d4b-442d-4991-b650-f7ca24a6094e",
   "metadata": {},
   "outputs": [],
   "source": []
  }
 ],
 "metadata": {
  "kernelspec": {
   "display_name": "Python 3 (ipykernel)",
   "language": "python",
   "name": "python3"
  },
  "language_info": {
   "codemirror_mode": {
    "name": "ipython",
    "version": 3
   },
   "file_extension": ".py",
   "mimetype": "text/x-python",
   "name": "python",
   "nbconvert_exporter": "python",
   "pygments_lexer": "ipython3",
   "version": "3.10.8"
  }
 },
 "nbformat": 4,
 "nbformat_minor": 5
}
