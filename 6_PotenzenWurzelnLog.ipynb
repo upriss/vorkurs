{
 "cells": [
  {
   "cell_type": "code",
   "execution_count": null,
   "id": "c4be0b36-34c1-43c1-8358-58d039a4703e",
   "metadata": {},
   "outputs": [],
   "source": [
    "from utils.vorkurs import *"
   ]
  },
  {
   "cell_type": "markdown",
   "id": "55a416bb-6a7f-40bd-86cf-fe3993bca5a0",
   "metadata": {},
   "source": [
    "<h2>Testen Sie Ihre Vorkenntnisse</h2>\n",
    "\n",
    "Wenn Sie das folgende Feld ausführen, erhalten Sie einen Quiz, mit dem Sie Kenntnisse in diesem Gebiet überprüfen können. "
   ]
  },
  {
   "cell_type": "code",
   "execution_count": null,
   "id": "7ccb3f7b-7fef-4abe-9b73-b9c796d12079",
   "metadata": {},
   "outputs": [],
   "source": [
    "%%html \n",
    "<iframe src=\"quizzes/vorkursPotenzen.html\" width= 100% height=700></iframe>"
   ]
  },
  {
   "cell_type": "markdown",
   "id": "69b4b9ef-1520-47bb-baf8-dc2e032321df",
   "metadata": {},
   "source": [
    "Potenz-, Wurzel- und Logarithmenrechnung stehen in einem engen Zusammenhang, da es sich um 3 Sichtweisen der gleichen Beziehung handelt:\n",
    "\n",
    "<img src=\"https://upriss.github.io/educaJS/images/potenz2.png\" width=\"100%\">\n"
   ]
  },
  {
   "cell_type": "markdown",
   "id": "2368d49e-230c-4914-b2a5-d8d03cf49cbb",
   "metadata": {},
   "source": [
    "<h2>Regeln für Potenzen und Wurzeln</h2>\n",
    "\n",
    "Anstatt $\\sqrt[n]{b}$ kann man auch $b^\\frac{1}{n}$ schreiben. Daher lassen sich die Regeln für Wurzeln direkt aus den Regeln für Potenzrechnung herleiten.\n",
    "\n",
    "<table>\n",
    "    <tr><td>$\\mbox{Potenzen}$<td>$\\mbox{Wurzeln}$</tr>\n",
    "    <tr><td>$a^n * b^n = (ab)^n$ <td>$\\sqrt[n]{a}\\sqrt[n]{b}=\\sqrt[n]{ab}$</tr>\n",
    "    <tr><td>$a^n / b^n = (a/b)^n$ <td>$\\sqrt[n]{a} : \\sqrt[n]{b}=\\sqrt[n]{a/b}$</tr>\n",
    "    <tr><td>$a^n * a^m = a^{n + m}$<td>$\\sqrt[n]{a}\\sqrt[m]{a}=a^{\\frac{1}{n} + \\frac{1}{m}}$</tr>\n",
    "    <tr><td>$a^n : a^m = a^{n - m}$<td>$\\sqrt[n]{a} : \\sqrt[m]{a}=a^{\\frac{1}{n} - \\frac{1}{m}}$</tr>\n",
    "    <tr><td>$(a^n)^m = a^{n*m}$<td>$\\sqrt[m]{\\sqrt[n]{a}} = \\sqrt[nm]{a}$</tr>\n",
    "</table>\n",
    "\n",
    "<h3>Aufgaben</h3>\n",
    "\n",
    "Die Regeln lassen sich durch Umformungen erklären. Überlegen Sie sich, was jeweils dort stehen muss\n",
    "oder erklärt werden muss, wo in den folgenden Zeilen das Wort \"Umformung\" steht. Falls es Ihnen nicht klar ist, verwenden Sie 3 anstatt $n$ und 4 anstatt $m$ und schreiben Sie die Formeln komplett\n",
    "hin.\n",
    "\n",
    "$a^n * b^n = a * \\ldots * a * b * \\ldots * b =$ Umformung $= (ab)^n $<br>\n",
    "\n",
    "$a^n * a^m =$ Umformung $= a^{n + m}$\n",
    "\n",
    "$(a^n)^m =$ Umformung $= a^{n*m}$\n",
    "\n",
    "$\\sqrt{a}\\sqrt{a}=$ Umformung $=a$\n",
    "    \n"
   ]
  },
  {
   "cell_type": "markdown",
   "id": "e25b1830-150a-4926-93cd-97046362cb9c",
   "metadata": {},
   "source": [
    "<h2>Wurzeln</h2>"
   ]
  },
  {
   "cell_type": "markdown",
   "id": "12152cee-9fe5-4495-b25d-6cb9cdd01261",
   "metadata": {},
   "source": [
    "Exponentielles und logarithmisches Wachsen"
   ]
  },
  {
   "cell_type": "code",
   "execution_count": null,
   "id": "a53c0f19-d29f-4ca1-a93e-f7a875b54d10",
   "metadata": {},
   "outputs": [],
   "source": []
  },
  {
   "cell_type": "markdown",
   "id": "3bbd636d-d9a3-4e46-a91e-3febe357f2bf",
   "metadata": {},
   "source": [
    "<h3>Logarithmen</h3>\n",
    "\n",
    "<table>\n",
    "    <tr><td>$\\mbox{Potenzen}$<td>$\\mbox{Logarithmen}$</tr>\n",
    "    <tr><td>$a^n * b^n = (ab)^n$ <td></tr>\n",
    "    <tr><td>$a^n / b^n = (a/b)^n$ <td></tr>\n",
    "    <tr><td>$a^n * a^m = a^{n + m}$<td>$log_a(nm) = log_a(m) + log_a(n)$</tr>\n",
    "    <tr><td>$a^n : a^m = a^{n - m}$<td>$log_a(n:m) = log_a(n) - log_a(m)$</tr>\n",
    "    <tr><td>$(a^n)^m = a^{n*m}$<td>$log_a(m^k) = k * log_a(m)$</tr>\n",
    "<tr><td>$a^0=1$ <td> $log_a(1) = 0$\n",
    "<tr><td>$a^1=a$  <td> $log_a(a) = 1$\n",
    "<tr><td>$a^k=a^k$  <td> $log_a(a^k) = k$\n",
    "<tr><td><td> $b^{log_b(k)} = k$\n",
    "</table>\n",
    "    \n",
    "$(\\sqrt[n]{a})^n = a^{n/n} = a$<td> $b^{log_b(k)} = k$"
   ]
  },
  {
   "cell_type": "markdown",
   "id": "ac85f3aa-6291-4cbb-835b-2cf2d1717bfd",
   "metadata": {},
   "source": [
    "<h2>Optional: Potenzrechnung statt Bruchrechnung</h2>\n",
    "\n",
    "Man kann auf die Bruchrechnung komplett verzichten, wenn man mit negativen Potenzen rechnet. Anstatt $\\frac{1}{n}$ kann man nämlich auch $n^{-1}$ schreiben. \n",
    "\n",
    "Daraus folgt \n",
    "<ul>\n",
    "    <li>$ \\frac{n}{a*b} = n : (a * b) = n *  (a*b)^{-1} = n *  a^{-1} * b^{-1}$\n",
    "    <li>$ n : (a * b * c ) = n *  a^{-1} * b^{-1} * c^{-1}$ usw.\n",
    "    <li>$a * a^{-1} = a^{1 - 1} = a^0 = 1$\n",
    "    <li>$(a^{-1})^{-1} = a^{-1 * -1} = a $\n",
    "</ul>\n",
    "Hier sind nochmal einige Beispiele mit Potenzrechnung statt Bruchrechnung:\n",
    "\n",
    "<ul>\n",
    "    <li><b>Kürzen und erweitern:</b><br> $\\frac{3}{4} = 3 * 4^{-1} = 3 * 1 * 4^{-1} = 3 * 6 * 6^{-1} * 4^{-1}$ $= 18 * 24^{-1}$</li>\n",
    "    <li><b>Addieren und subtrahieren</b>:<br> $\\frac{3}{4} + \\frac{7}{5} = 3 * 4^{-1} + 7 * 5^{-1} = 3 * 5 * 5^{-1}  * 4^{-1} + 7 * 4 * 4^{-1}  * 5^{-1}$<br>$ = 15 * 20^{-1} + 28 * 20^{-1} $\n",
    "        $=(15 + 28) * 20^{-1} = 43 * 20^{-1}$\n",
    "    <li><b>Multiplizieren</b><br> $\\frac{3}{4} * \\frac{7}{5} = 3 * 4^{-1} * 7 * 5^{-1} = 3 * 7 * 4^{-1} * 5^{-1} = 21 * 20^{-1}$\n",
    "    <li><b>Dividieren</b>:<br> $\\frac{3}{4} : \\frac{7}{5} = (3 * 4^{-1}) : (7 * 5^{-1}) = 3 * 4^{-1} * 7^{-1} * (5^{-1})^{-1}$<br>$  = 3 * (4 * 7)^{-1} * 5 = 3 * 5 * 28^{-1} = 15 * 28^{-1}$\n",
    "        </ul>\n",
    "        \n"
   ]
  },
  {
   "cell_type": "code",
   "execution_count": null,
   "id": "4ca57f45-adf6-407a-a635-82ac546f2b6d",
   "metadata": {},
   "outputs": [],
   "source": []
  }
 ],
 "metadata": {
  "kernelspec": {
   "display_name": "Python 3 (ipykernel)",
   "language": "python",
   "name": "python3"
  },
  "language_info": {
   "codemirror_mode": {
    "name": "ipython",
    "version": 3
   },
   "file_extension": ".py",
   "mimetype": "text/x-python",
   "name": "python",
   "nbconvert_exporter": "python",
   "pygments_lexer": "ipython3",
   "version": "3.10.8"
  }
 },
 "nbformat": 4,
 "nbformat_minor": 5
}
