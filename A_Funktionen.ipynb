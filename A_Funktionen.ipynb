{
 "cells": [
  {
   "cell_type": "code",
   "execution_count": null,
   "id": "167a308e-8182-473b-953f-e8a1ad730237",
   "metadata": {},
   "outputs": [],
   "source": [
    "from utils.vorkurs import *"
   ]
  },
  {
   "cell_type": "markdown",
   "id": "5d275345-c935-4d43-ad14-8e183df5b646",
   "metadata": {},
   "source": [
    "<h2>Funktionen</h2>\n",
    "\n",
    "Bei Gleichungen ist es oft so, dass genau 2 Variablen $x$ und $y$ verwendet werden, die in einer festen Beziehung zueinander stehen, so dass man, wenn man $x$ kennt, dadurch einen Wert für $y$ berechnen kann. Zum Beispiel:\n",
    "\n",
    "$y = x^2$\n",
    "\n",
    "$y = x + 2$\n",
    "\n",
    "$y =$ sin$(x)$\n",
    "\n",
    "Anstatt $y$ kann man in solchen Fällen auch $f(x)$ schreiben:\n",
    "\n",
    "$f(x) = x^2$\n",
    "\n",
    "$f(x) = x + 2$\n",
    "\n",
    "$f(x) =$ sin$(x)$\n",
    "\n",
    "Man nennt einen Prozess, der jedes Element x einer Menge D (die sogenannte Definitionsmenge) eindeutig in ein Element f(x) einer Menge W (die sogenannte Wertemenge) transformiert auch <b>Funktion</b>. Man schreibt $f:D \\rightarrow W$.\n",
    "\n",
    "In Python sind viele Funktionen schon vordefiniert. Führen Sie das nächste Feld aus und beschreiben Sie, was der Zweck jeder der Funktionen wohl ist."
   ]
  },
  {
   "cell_type": "code",
   "execution_count": null,
   "id": "c9ee60e6-46fe-4c0f-8a79-3adf73c98bee",
   "metadata": {},
   "outputs": [],
   "source": [
    "len(\"Hello\")\n",
    "sin(1)\n",
    "sqrt(4)\n",
    "simplify((1+1/(m+1))/(2-(m-2)/m))\n",
    "factorial(4)"
   ]
  },
  {
   "cell_type": "markdown",
   "id": "b03b9463-32dc-4a31-b47c-7c31d6eb7c2d",
   "metadata": {},
   "source": [
    "<h3>Aufgaben</h3>\n",
    "\n",
    "Bestimmen Sie für die Python-Funktionen im obigen Feld die Definitionsmengen (d.h. auf was für Elemente kann man die Funktionen anwenden) und die Wertemengen (d.h. was für Elemente kommen jeweils heraus)? Zum Beispiel darf man die Wurzelfunktion nur auf positive Zahlen anwenden und es kommen auch nur positive Zahlen heraus. \n",
    "\n",
    "Wenn man Funktionen auf Elemente anwendet, die nicht in der Definitionsmenge liegen, produziert Python einen Fehler. Überlegen Sie für das nächste Feld erst, welche Funktionsaufrufe wohl einen Fehler produzieren werden und ersetzen Sie die \"-4\" in den Fällen, in denen sie nicht in der Definitionsmenge liegt, durch ein Element, das in der jeweiligen Definitionsmenge liegt, so dass keine Fehler mehr produziert werden."
   ]
  },
  {
   "cell_type": "code",
   "execution_count": null,
   "id": "b5c4832b-209d-4dbd-9755-18dad2e77adf",
   "metadata": {},
   "outputs": [],
   "source": [
    "sqrt(-4)\n",
    "sin(-4)\n",
    "len(-4)\n",
    "simplify(-4)\n",
    "factorial(-4)"
   ]
  },
  {
   "cell_type": "markdown",
   "id": "db024e9a-4bee-42ee-a66f-0e0330d20184",
   "metadata": {},
   "source": [
    "<h2>Verschiedene Arten von Funktionen</h2>\n",
    "\n",
    "Funktionen kommen in sehr unterschiedlichen Formen vor. Es muss nur immer die Bedingung erfüllt sein, dass jedem Element x einer Menge D eindeutig in ein Element f(x) einer Menge W zugeordnet ist. \n",
    "\n",
    "Zum Beispiel wird in dieser Tabelle jedem Monat genau 1 Temperatur zugeordnet. Anders herum wird jeder Temperatur genau 1 Monat zugeordnet. <p>\n",
    "$f_1:$ Monat_3 $\\rightarrow$ Temperatur <br>\n",
    "$f_2:$ Temperatur $\\rightarrow$ Monat_3 <br>\n",
    "\n",
    "Man spricht in diesem Fall auch von <b>Bijunktion</b> oder <b>1-zu-1 Zuordnung</b>, da es sich um eine Funktion in beide Richtungen handelt.\n",
    "<table>\n",
    "    <tr><th>Monat_3<th>Temperatur\n",
    "    <tr><td>Jan<td>1            \n",
    "    <tr><td>Feb<td>2\n",
    "    <tr><td>Mar<td>5\n",
    "    <tr><td>Apr<td>10           \n",
    "    <tr><td>Mai<td>14\n",
    "    <tr><td>Jun<td>17\n",
    "    <tr><td>Jul<td>19           \n",
    "    <tr><td>Aug<td>20\n",
    "    <tr><td>Sep<td>15\n",
    "    <tr><td>Okt<td>11         \n",
    "    <tr><td>Nov<td>6\n",
    "    <tr><td>Dez<td>3\n",
    "</table>\n"
   ]
  },
  {
   "cell_type": "markdown",
   "id": "ab4f2cc2-a5a4-4d4e-bf22-205849ab2221",
   "metadata": {},
   "source": [
    "In der folgenden Tabelle kann man weder für jeden Monat eine Temperatur bestimmen (weil es z.B. für den Monat J drei verschiedene Temperaturen gibt), noch kann man jeder Temperatur einen Monat zuordnen, weil es zu der Temperatur 3 zwei verschiedene Monate gibt (F und D). Man sagt für die Beziehung zwischen Monat_1 und Temperatur in dieser Tabelle, dass es sich um eine <b>Relation</b>, aber keine Funktion handelt.\n",
    "    \n",
    "<table>\n",
    "    <tr><th>Monat_1<th>Temperatur\n",
    "    <tr><td>J<td>1            \n",
    "    <tr><td>F<td>3\n",
    "    <tr><td>M<td>5\n",
    "    <tr><td>A<td>10           \n",
    "    <tr><td>M<td>14\n",
    "    <tr><td>J<td>17\n",
    "    <tr><td>J<td>19           \n",
    "    <tr><td>A<td>20\n",
    "    <tr><td>S<td>15\n",
    "    <tr><td>O<td>11         \n",
    "    <tr><td>N<td>6\n",
    "    <tr><td>D<td>3\n",
    "</table>\n"
   ]
  },
  {
   "cell_type": "markdown",
   "id": "94a4c59f-dd90-4924-94be-39f863d7dd61",
   "metadata": {},
   "source": [
    "<h3>Testen Sie Ihr Wissen zu Funktionen</h3>\n",
    "\n",
    "Die Lösungen zu Aufgaben 1. und 2. stehen weiter unten. Überlegen Sie aber erst, bevor Sie sich die Lösungen anschauen.\n",
    "\n",
    "1. Bestimmen Sie für die folgenden Graphen (A-F), ob es sich um Funktionen handelt, wenn die Elemente im linken Kreis die Definitionsmenge darstellen und die Elemente im rechten Kreis die Wertemenge.\n",
    "\n",
    "<center><img src=\"https://upriss.github.io/educaJS/images/funkt1.jpg\" width=\"400\"></center>\n",
    "\n",
    "2. Bestimmen Sie für die folgenden Graphen, ob es sich um Funktionen handelt, wenn die waagerechte Achse die Definitionsmenge darstellt und die senkrechte Achse die Wertemenge.\n",
    "\n",
    "<center><img src=\"https://upriss.github.io/educaJS/images/funkt2.jpg\" width=\"400\"></center>"
   ]
  },
  {
   "cell_type": "markdown",
   "id": "10bc6bbe-fc41-4d84-ac7e-7613a0ab68ba",
   "metadata": {},
   "source": [
    "3. Vergleichen Sie nochmal, welche verschiedenen Arten von Funktionen Sie in diesem Notebook gesehen haben (mit reellen Zahlen, Python-Funktionen, Tabellen, Graphen). Wie kann man die Bedingung, dass jedem Element x einer Menge D eindeutig in ein Element f(x) einer Menge W zugeordnet ist, jeweils überprüfen? \n",
    "\n",
    "Historisch gesehen hat es Jahrhunderte gedauert, bis Funktionen als das mathematische Prinzip erkannt wurden, das diese verschiedenen Darstellungsweisen verbindet. Verzweifeln Sie also nicht, wenn auch Sie etwas Zeit brauchen, bis Sie mit dem Funktionsbegriff in allen Varianten vertraut sind. "
   ]
  },
  {
   "cell_type": "markdown",
   "id": "b5286d61-61ae-41d5-a2cb-a4f1b091b7e0",
   "metadata": {
    "tags": []
   },
   "source": [
    "<h2>Lösungen</h2>"
   ]
  },
  {
   "cell_type": "markdown",
   "id": "5353dfa7-c734-4eb9-8765-48ce6b8a3c94",
   "metadata": {},
   "source": [
    "1. A) keine Funktion, weil keine eindeutige Zurdnung für Element d. B) ist Funktion. C) keine Funktion, weil keine Zurdnung für Element c. D) ist Funktion und sogar eine Bijunktion. E) keine Funktion, weil keine Zurdnungen. F) keine Funktion, weil keine eindeutige Zurdnung für Elemente d und c.\n",
    "\n",
    "2. Erste Reihe von links: ist Funktion, ist Funktion (sogar Bijunktion), keine Funktion, weil rechts den Werten der waagerechten Achse jeweils 2 Werte der senkrechten Achse zugeordnet sind. Zweite Reihe von links: keine Funktion, ist Funktion, keine Funktion."
   ]
  },
  {
   "cell_type": "code",
   "execution_count": null,
   "id": "cab8f63f-049a-4e09-a31e-4e3e0a55b979",
   "metadata": {},
   "outputs": [],
   "source": []
  }
 ],
 "metadata": {
  "kernelspec": {
   "display_name": "Python 3 (ipykernel)",
   "language": "python",
   "name": "python3"
  },
  "language_info": {
   "codemirror_mode": {
    "name": "ipython",
    "version": 3
   },
   "file_extension": ".py",
   "mimetype": "text/x-python",
   "name": "python",
   "nbconvert_exporter": "python",
   "pygments_lexer": "ipython3",
   "version": "3.10.8"
  }
 },
 "nbformat": 4,
 "nbformat_minor": 5
}
