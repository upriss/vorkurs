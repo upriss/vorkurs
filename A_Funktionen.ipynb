{
 "cells": [
  {
   "cell_type": "code",
   "execution_count": null,
   "id": "167a308e-8182-473b-953f-e8a1ad730237",
   "metadata": {},
   "outputs": [],
   "source": [
    "from utils.vorkurs import *"
   ]
  },
  {
   "cell_type": "markdown",
   "id": "5d275345-c935-4d43-ad14-8e183df5b646",
   "metadata": {},
   "source": [
    "<h2>Funktionen</h2>\n",
    "\n",
    "Bei Gleichungen ist es oft so, dass genau 2 Variablen $x$ und $y$ verwendet werden, die in einer festen Beziehung zueinander stehen, so dass man, wenn man $x$ kennt, dadurch einen Wert für $y$ berechnen kann. Zum Beispiel:\n",
    "\n",
    "$y = x^2$\n",
    "\n",
    "$y = x + 2$\n",
    "\n",
    "$y =$ sin$(x)$\n",
    "\n",
    "Anstatt $y$ kann man in solchen Fällen auch $f(x)$ schreiben:\n",
    "\n",
    "$f(x) = x^2$\n",
    "\n",
    "$f(x) = x + 2$\n",
    "\n",
    "$f(x) =$ sin$(x)$\n",
    "\n",
    "Man nennt einen Prozess, der jedes Element x einer Menge D (die sogenannte Definitionsmenge) eindeutig in ein Element f(x) einer Menge W (die sogenannte Wertemenge) transformiert auch <b>Funktion</b>.\n",
    "\n",
    "In Python sind viele Funktionen schon vordefiniert. Überlegen Sie sich, was die Funktionen im folgenden Feld wohl tun. "
   ]
  },
  {
   "cell_type": "code",
   "execution_count": null,
   "id": "c9ee60e6-46fe-4c0f-8a79-3adf73c98bee",
   "metadata": {},
   "outputs": [],
   "source": [
    "len(\"Hello\")\n",
    "sin(1)\n",
    "sqrt(4)\n",
    "simplify((1+1/(m+1))/(2-(m-2)/m))\n",
    "factorial(4)"
   ]
  },
  {
   "cell_type": "markdown",
   "id": "b03b9463-32dc-4a31-b47c-7c31d6eb7c2d",
   "metadata": {},
   "source": [
    "<h3>Aufgabe</h3>\n",
    "\n",
    "Welches sind bei den Funktionen die Definitionsmengen (d.h. auf was für Elemente kann man die Funktionen anwenden) und welches sind die Wertemenge (d.h. was für Elemente kommen jeweils heraus)? Zum Beispiel darf man die Wurzelfunktion nur auf positive Zahlen anwenden und es kommen auch nur positive Zahlen heraus. Wenn man Funktionen auf Elemente anwendet, die nicht in der Definitionsmenge liegen, produziert Python einen Fehler. Überlegen Sie für das nächste Feld erst, welche Funktionsaufrufe wohl einen Fehler produzieren werden und ersetzen Sie die problematischen Elemente, die in die Funktionen eingegeben werden, dann durch Elemente, die in den jeweiligen Definitionsbereichen liegen, so dass keine Fehler mehr produziert werden."
   ]
  },
  {
   "cell_type": "code",
   "execution_count": null,
   "id": "b5c4832b-209d-4dbd-9755-18dad2e77adf",
   "metadata": {},
   "outputs": [],
   "source": [
    "sqrt(-4)\n",
    "sin(-4)\n",
    "len(-4)\n",
    "simplify(-4)\n",
    "factorial(-4)"
   ]
  },
  {
   "cell_type": "code",
   "execution_count": null,
   "id": "a02015d6-91bd-4e91-9cbc-4d69576d29c9",
   "metadata": {},
   "outputs": [],
   "source": []
  }
 ],
 "metadata": {
  "kernelspec": {
   "display_name": "Python 3 (ipykernel)",
   "language": "python",
   "name": "python3"
  },
  "language_info": {
   "codemirror_mode": {
    "name": "ipython",
    "version": 3
   },
   "file_extension": ".py",
   "mimetype": "text/x-python",
   "name": "python",
   "nbconvert_exporter": "python",
   "pygments_lexer": "ipython3",
   "version": "3.10.8"
  }
 },
 "nbformat": 4,
 "nbformat_minor": 5
}
