{
 "cells": [
  {
   "cell_type": "markdown",
   "id": "47023995-ea94-42cd-9004-32b8f0830469",
   "metadata": {},
   "source": [
    "Denken Sie daran, das nächste Feld jedes Mal einmal auszuführen, wenn Sie dies Notebook öffnen."
   ]
  },
  {
   "cell_type": "code",
   "execution_count": null,
   "id": "3d5e1482-9168-44ef-9024-c87f41d69f2a",
   "metadata": {},
   "outputs": [],
   "source": [
    "from utils.vorkurs import *"
   ]
  },
  {
   "cell_type": "markdown",
   "id": "353a1a53-50cc-4a5b-90e6-161c14645820",
   "metadata": {},
   "source": [
    "<h2>Schätzen</h2>\n",
    "\n",
    "In der modernen Welt müssen Sie immer weniger selber ausrechnen, da Sie jederzeit Ihr Smartphone konsultieren können. Aber insbesondere die derzeit verwendeten KI-Algorithmen basieren nicht auf exakter Logik, sondern auf Wahrscheinlichkeiten. D.h. KI-Algorithmen sind in vielen Fällen richtig, manchmal aber auch komplett falsch. Eine wichtige Fähigkeit, die Sie im täglichen Leben und in Ihrer beruflichen Praxis benötigen, ist also das Evaluieren und Abschätzen von Ergebnissen, die Sie mit einem Computer erhalten. Sie müssen entscheiden, ob die Ergebnisse überhaupt richtig sein können.\n",
    "\n",
    "Überlegen Sie für die folgenden Ungleichungen zunächst, welcher Wert jeweils größer ist und ändern Sie das $<$-Zeichen entsprechend, so dass immer True herauskommt, wenn Sie das Feld ausführen. Überlegen Sie also erst, bevor Sie das Feld ausführen. Sie sollen dabei die Werte nicht ausrechnen, sondern sich nur jeweils überlegen, wie groß die Werte ungefähr sind."
   ]
  },
  {
   "cell_type": "code",
   "execution_count": null,
   "id": "eeb0301a-082f-4b1e-9946-cbbd39bc6d42",
   "metadata": {},
   "outputs": [],
   "source": [
    "3/4 < 2\n",
    "100 * 2 < 2 * 100\n",
    "10000 + 17 < 2 * 500"
   ]
  },
  {
   "cell_type": "code",
   "execution_count": null,
   "id": "6e2eeef9-bbfc-4307-8893-c88e62b95a31",
   "metadata": {},
   "outputs": [],
   "source": [
    "10/15 < 11/15\n",
    "10/20 < 10/21"
   ]
  },
  {
   "cell_type": "markdown",
   "id": "ec00cd64-9c1a-4a88-8059-f03794d714c9",
   "metadata": {},
   "source": [
    "Können Sie Regeln formulieren, die Sie dabei beobachten. Zum Beispiel: wenn der Zähler oder Nenner eines Bruchs größer wird, wird der Bruch dann größer oder kleiner?"
   ]
  },
  {
   "cell_type": "markdown",
   "id": "2ed4ad45-af9c-40ed-a5a1-445de5966416",
   "metadata": {},
   "source": [
    "<h3>Klammern</h3>\n",
    "\n",
    "Der Merksatz ist: \"Punktrechnung vor Strichrechnung\""
   ]
  },
  {
   "cell_type": "code",
   "execution_count": null,
   "id": "b663929a-0b2d-4144-9cec-289782bcc08e",
   "metadata": {},
   "outputs": [],
   "source": [
    "100 - 100 * 2 - 2 < 0\n",
    "(100 - 100) * (2 - 2) < 0"
   ]
  },
  {
   "cell_type": "markdown",
   "id": "6f8fb428-4e0b-46b4-afa0-b55423e2edec",
   "metadata": {},
   "source": [
    "<h3>Negative Zahlen</h3>\n",
    "\n",
    "Achtung, das Minuszeichen hat zwei verschiedene Bedeutungen: als Subtraktion oder als Vorzeichen. Zum Beispiel ist 5-4 eine Subtraktion, aber (-1) eine negative Zahl. Doppelte Vorzeichen heben sich auf: (-(-1)) = 1. Die Multiplikation zweier negativer Zahlen ergibt eine positive Zahl. "
   ]
  },
  {
   "cell_type": "code",
   "execution_count": null,
   "id": "2c6a25c6-831f-43e4-8ce8-d067fa6ff0be",
   "metadata": {},
   "outputs": [],
   "source": [
    "-100 < -200\n",
    "-(-200) < 100\n",
    "(-1) * 100 < (-1) * 200"
   ]
  },
  {
   "cell_type": "code",
   "execution_count": null,
   "id": "db837be0-e6ce-4de4-b53d-e35f90cd7b05",
   "metadata": {},
   "outputs": [],
   "source": [
    "(-1) * (-1) < (-1) * (-2)\n",
    "(-1) * (-(-1)) * (-1) < 0\n",
    "(-1) + (-1) < (-1)"
   ]
  },
  {
   "cell_type": "markdown",
   "id": "01160afc-971b-4b11-8ffc-e2ede0efdd42",
   "metadata": {},
   "source": [
    "<h3>Exponenten</h3>\n",
    "\n",
    "3\\*\\*2 bedeutet $3^2$ oder 3 * 3. Entsprechend: 2\\*\\*10 bedeutet $2^{10}$ oder 2 * 2 * 2 * 2 * 2 * 2 * 2 * 2 * 2 * 2."
   ]
  },
  {
   "cell_type": "code",
   "execution_count": null,
   "id": "7dd1db7d-9c05-4f39-9ff2-8ac001081836",
   "metadata": {},
   "outputs": [],
   "source": [
    "3**2 < 2**3\n",
    "400**2 < 1000\n",
    "40**2 + 50**2 < 1000"
   ]
  },
  {
   "cell_type": "code",
   "execution_count": null,
   "id": "becd2cb5-340d-47b4-bded-3ac538d26dd0",
   "metadata": {},
   "outputs": [],
   "source": [
    "2**10 < 1000\n",
    "2**100 > 1000000000000000000"
   ]
  },
  {
   "cell_type": "markdown",
   "id": "3aa5936d-4ad6-402a-90a2-0dda93b52fc8",
   "metadata": {},
   "source": [
    "Erinnerung: halten Sie alle Regeln fest, die Sie beobachten."
   ]
  },
  {
   "cell_type": "markdown",
   "id": "0846f67f-4253-42e4-b093-0114288dd51b",
   "metadata": {},
   "source": [
    "<h3>Aufgabe</h3>\n",
    "\n",
    "Wenn Sie das nächste Feld ausführen, erhalten Sie einen Quiz, mit dem Sie grundlegende Rechenregeln noch mal üben können."
   ]
  },
  {
   "cell_type": "code",
   "execution_count": null,
   "id": "8c4c6ab5-8217-4f70-b8ab-a757ef98d5e7",
   "metadata": {},
   "outputs": [],
   "source": [
    "%%html \n",
    "<iframe src=\"quizzes/vorkursRechenregeln.html\" width= 100% height=500></iframe>"
   ]
  },
  {
   "cell_type": "markdown",
   "id": "4289a923-adca-45bf-890e-5e87f4f1c7f2",
   "metadata": {},
   "source": [
    "<h2>Zahlenmengen</h2>\n",
    "\n",
    "Wenn Sie das folgende Feld ausführen, erhalten Sie einen Quiz, mit dem Sie überprüfen können, ob Sie die Symbole für Zahlenmengen noch kennen."
   ]
  },
  {
   "cell_type": "code",
   "execution_count": null,
   "id": "86b68e09-7ec4-4518-833f-c68bbce520a8",
   "metadata": {},
   "outputs": [],
   "source": [
    "%%html \n",
    "<iframe src=\"quizzes/vorkursZahlen.html\" width= 100% height=350></iframe>"
   ]
  },
  {
   "cell_type": "markdown",
   "id": "d579efda-def6-4a8f-b7dd-453222ec581c",
   "metadata": {},
   "source": [
    "<img src=\"https://upload.wikimedia.org/wikipedia/commons/thumb/b/b7/Zahlenmengen.svg/790px-Zahlenmengen.svg.png\" width=\"400\"> \n",
    "\n",
    "Bildquelle: https://de.wikibooks.org/wiki/Datei:Zahlenmengen.svg\n",
    "\n",
    "Und hier nochmal verschiedene Zahlen in Python:"
   ]
  },
  {
   "cell_type": "code",
   "execution_count": null,
   "id": "2a3df8c1-e5b7-4bf8-99e4-28885b19a24a",
   "metadata": {},
   "outputs": [],
   "source": [
    "3\n",
    "3.0\n",
    "1/3\n",
    "-5\n",
    "sqrt(2)\n",
    "e\n",
    "pi"
   ]
  },
  {
   "cell_type": "markdown",
   "id": "a78457e7-55a6-46aa-8b5e-10493f88cb91",
   "metadata": {},
   "source": [
    "<h2>Bezeichnungen</h2>\n",
    "\n",
    "Hier zur Erinnerung noch einige Bezeichnungen für die Grundrechenarten:\n",
    "\n",
    "<img src=\"https://upriss.github.io/educaJS/images/summe.png\" width=\"100%\"> \n",
    "\n",
    "Und Bezeichnungen für Potenzen und Wurzeln:\n",
    "\n",
    "<img src=\"https://upriss.github.io/educaJS/images/potenz.png\" width=\"100%\"> "
   ]
  },
  {
   "cell_type": "code",
   "execution_count": null,
   "id": "bff2c480-0aaf-42d0-a1c7-ceae493c0260",
   "metadata": {},
   "outputs": [],
   "source": []
  }
 ],
 "metadata": {
  "kernelspec": {
   "display_name": "Python 3 (ipykernel)",
   "language": "python",
   "name": "python3"
  },
  "language_info": {
   "codemirror_mode": {
    "name": "ipython",
    "version": 3
   },
   "file_extension": ".py",
   "mimetype": "text/x-python",
   "name": "python",
   "nbconvert_exporter": "python",
   "pygments_lexer": "ipython3",
   "version": "3.10.8"
  }
 },
 "nbformat": 4,
 "nbformat_minor": 5
}
