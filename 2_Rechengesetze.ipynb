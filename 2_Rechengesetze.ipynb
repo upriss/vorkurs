{
 "cells": [
  {
   "cell_type": "markdown",
   "id": "6f27f0dc-1d14-4614-a649-25123d5e4abf",
   "metadata": {},
   "source": [
    "Denken Sie daran, dass nächste Feld jedes Mal einmal auszuführen, wenn Sie dieses Notebook bearbeiten."
   ]
  },
  {
   "cell_type": "code",
   "execution_count": null,
   "id": "82b4354e-b039-4b29-96f5-4d60148a9f6b",
   "metadata": {},
   "outputs": [],
   "source": [
    "from utils.vorkurs import *"
   ]
  },
  {
   "cell_type": "markdown",
   "id": "0cb92d5a-c267-4615-8692-6b26aba6d6c7",
   "metadata": {},
   "source": [
    "<h2>Testen Sie Ihre Vorkenntnisse</h2>\n",
    "\n",
    "Wenn Sie das folgende Feld ausführen, erhalten Sie einen Quiz, mit dem Sie Kenntnisse in diesem Gebiet überprüfen können. Wenn Sie die Begriffe \"assoziativ\", \"kommutativ\", \"distributiv\" und \"binomische Formeln\" schon gut kennen, brauchen Sie dieses Notebook nicht weiter zu bearbeiten."
   ]
  },
  {
   "cell_type": "code",
   "execution_count": null,
   "id": "025b460b-751f-44cc-9856-ef3b73cfecf6",
   "metadata": {},
   "outputs": [],
   "source": [
    "%%html \n",
    "<iframe src=\"quizzes/vorkursGesetze.html\" width= 100% height=500></iframe>"
   ]
  },
  {
   "cell_type": "markdown",
   "id": "01873cb4-97f2-465d-902a-6baecd93a20b",
   "metadata": {},
   "source": [
    "<h2>Rechengesetze</h2>\n",
    "\n",
    "Das Kommutativgesetz gilt für Operationen, bei denen man die Operanden vertauschen darf.\n",
    "\n",
    "<img src=\"https://upriss.github.io/educaJS/images/kommut.png\" width=\"100%\">\n",
    "\n",
    "Das Assoziativgesetz gilt für Operationen, bei denen man Klammern beliebig setzen darf.\n",
    "\n",
    "<img src=\"https://upriss.github.io/educaJS/images/assoc.png\" width=\"100%\">\n",
    "\n",
    "Das Distributivgesetz gilt für zwei verschiedene Operationen, bei denen man \"ausklammern\" darf.\n",
    "\n",
    "<img src=\"https://upriss.github.io/educaJS/images/distr.png\" width=\"100%\">\n",
    "\n",
    "Überlegen Sie erst, bevor Sie die folgenden Felder ausführen, ob jeweils True oder False herauskommt."
   ]
  },
  {
   "cell_type": "code",
   "execution_count": null,
   "id": "799812e8-225b-4b27-8123-68a5a34690a2",
   "metadata": {},
   "outputs": [],
   "source": [
    "4 + 5 == 5 + 4\n",
    "4 - 5 == 5 - 4\n",
    "4 * 5 == 5 * 4\n",
    "4 / 5 == 5 / 4"
   ]
  },
  {
   "cell_type": "code",
   "execution_count": null,
   "id": "01025234-8f63-4e91-b2d8-07552af05e35",
   "metadata": {},
   "outputs": [],
   "source": [
    "(4 + 5) + 6 == 4 + (5 + 6)\n",
    "(4 * 5) * 6 == 4 * (5 * 6)\n",
    "(4 - 5) - 6 == 4 - (5 - 6)\n",
    "(4 / 5) / 6 == 4 / (5 / 6)"
   ]
  },
  {
   "cell_type": "code",
   "execution_count": null,
   "id": "0908b26e-fa6e-479a-b716-72932564aa00",
   "metadata": {},
   "outputs": [],
   "source": [
    "3 * (4 + 5) == 3 * 4 + 3 * 5\n",
    "3 * (4 - 5) == 3 * 4 - 3 * 5\n",
    "3 + (4 * 5) == (3 + 4) * (3 + 5)"
   ]
  },
  {
   "cell_type": "markdown",
   "id": "3d8a688c-4d78-403c-9a0b-7d3000ce52f3",
   "metadata": {},
   "source": [
    "<h2>Binomische Formeln</h2>\n",
    "\n",
    "Die Binomischen Formeln ergeben sich unmittelbar aus den oben genannten Rechengesetzen (insbesondere dem Distributivgesetz).\n",
    "\n",
    "$(a + b)^2 = a^2 + 2ab + b^2$<br>\n",
    "$(a - b)^2 = a^2 - 2ab + b^2$<br>\n",
    "$(a + b)(a - b) = a^2 - b^2$\n",
    "\n",
    "<h3>Aufgabe</h3>\n",
    "\n",
    "1. Rechnen Sie nach, dass die Binomischen Formeln stimmen. Zum Beispiel: $(a + b)^2 = (a + b)(a + b)= a(a + b) + b(a + b) =$ ...\n",
    "\n",
    "2. Versuchen Sie nachzuvollziehen, wie die ersten beiden Binomischen Formeln hier geometrisch dargestellt sind:\n",
    "\n",
    "<img src=\"https://upriss.github.io/educaJS/images/binom.png\" width=\"100%\">\n",
    "\n",
    "Sie werden die Rechengesetze aus diesem Notebook in den nächsten Notebooks noch brauchen."
   ]
  },
  {
   "cell_type": "markdown",
   "id": "d3a29fba-7d42-4ef0-b113-46ffbe0406ed",
   "metadata": {},
   "source": [
    "<h2>Visualisierungen</h2>\n",
    "\n",
    "Helfen Ihnen eigentlich die Visualisierungen in diesem Notebook oder finden Sie sie eher verwirrend? Auch wenn es vielleicht zunächst schwer fällt, ist es oft wichtig, sich mathematische Begriffe mental auf unterschiedliche Weisen vorzustellen, damit man sie in unterschiedlichen Zusammenhängen anwenden kann.\n",
    "\n",
    "Wenn Sie das nächste Feld ausführen, erhalten Sie einen Quiz, in dem Sie das Verstehen von Visualisierungen noch weiter üben können. Es handelt sich dabei um Standardbeispiele aus der Geometrie, die leicht im Internet zu finden sind, falls Sie nicht kennen und 2 Reihen, die im Notebook über Folgen und Reihen noch weiter erläutert werden."
   ]
  },
  {
   "cell_type": "code",
   "execution_count": null,
   "id": "52f638a2-2d19-4b87-acf8-c2fb9349ec11",
   "metadata": {},
   "outputs": [],
   "source": [
    "%%html \n",
    "<iframe src=\"quizzes/vorkursZeichnen.html\" width= 100% height=500></iframe>"
   ]
  },
  {
   "cell_type": "code",
   "execution_count": null,
   "id": "a52c1733-a425-4833-8cca-c1bbdddf57f6",
   "metadata": {},
   "outputs": [],
   "source": []
  }
 ],
 "metadata": {
  "kernelspec": {
   "display_name": "Python 3 (ipykernel)",
   "language": "python",
   "name": "python3"
  },
  "language_info": {
   "codemirror_mode": {
    "name": "ipython",
    "version": 3
   },
   "file_extension": ".py",
   "mimetype": "text/x-python",
   "name": "python",
   "nbconvert_exporter": "python",
   "pygments_lexer": "ipython3",
   "version": "3.10.8"
  }
 },
 "nbformat": 4,
 "nbformat_minor": 5
}
