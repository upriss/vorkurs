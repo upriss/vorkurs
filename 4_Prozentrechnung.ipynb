{
 "cells": [
  {
   "cell_type": "code",
   "execution_count": null,
   "id": "4d61658f-c49e-4255-a26f-668e37f959a0",
   "metadata": {},
   "outputs": [],
   "source": [
    "from utils.vorkurs import *"
   ]
  },
  {
   "cell_type": "markdown",
   "id": "62768707-fdfb-47a0-99ba-f3464fc589b5",
   "metadata": {},
   "source": [
    "<h2>Prozentrechnung</h2>\n",
    "\n",
    "\"Prozent\" (geschrieben als %) bedeutet \"Hundertstel\" und \"von\" heißt in diesem Fall \"multipliziert\", d.h. \"5% von\" bedeutet \"multipliziere mit $\\frac{5}{100}$\". In der Wissenschaft braucht man Prozentrechnung oft um Ergebnisse zu dokumentieren (z.B. \"... trifft in 45% aller Fälle zu\") und generell in der Wahrscheinlichkeitsrechnung und Statistik. Im täglichen Leben begegnet man Prozentrechnung auch häufig. Leider gibt es immer wieder Fälle, wo wichtige Entscheidungen falsch getroffen werden, weil viele Menschen Prozentrechnung nicht ganz verstehen.\n",
    "\n",
    "<h2>Prozentrechnung mit Taschenrechner/Computer</h2>\n",
    "\n",
    "Wenn man einen Taschenrechner oder Computer zur Verfügung hat, ist es am einfachsten, wenn man die Prozentzahl als Dezimalbruch darstellt, zB $\\frac{5}{100}$ = 0.05. <b>D.h. man schreibt die Prozentzahl so, dass die letzte Ziffer 2 Stellen hinter dem Komma ist und multipliziert damit.</b> Zum Beispiel:\n",
    "<center>\"5% von 30\" bedeutet 0.05 * 30.<br> \n",
    "\"20% von 30\" bedeutet 0.20 * 30.<br>\n",
    "\"100% von 30\" bedeutet 1.00 * 30.</center>\n",
    "\n",
    "Anmerkung: das Komma wird in diesen Notebooks genau wie in Programmiersprachen als Punkt geschrieben, also zB 0.05 anstatt 0,05. Für die Aufgaben in diesem Notebook ersetzen Sie TODO durch einen Wert oder eine Formel, die den Wert berechnet (wie in der ersten Zeile), und führen Sie dann das Feld aus. Es soll immer True herauskommen."
   ]
  },
  {
   "cell_type": "code",
   "execution_count": null,
   "id": "3d2380ab-5fa5-4fbb-82ad-d27ae27c46fc",
   "metadata": {},
   "outputs": [],
   "source": [
    "Berechnen_Sie_5_Prozent_Von_13 == 0.05 * 13\n",
    "Berechnen_Sie_6_Prozent_Von_80 == TODO\n",
    "Berechnen_Sie_32_Prozent_Von_17 == TODO"
   ]
  },
  {
   "cell_type": "markdown",
   "id": "91f1ff00-2db4-4554-ae4e-d2865e0c8c15",
   "metadata": {},
   "source": [
    "Manchmal möchte man berechnen, um wie viel Prozent etwas steigt oder fällt. Dafür muss man den berechneten Prozentbetrag zu dem ursprünglichen Wert hinzuaddieren oder abziehen. Zum Beispiel, wie viel ist 30 Euro auf dem Konto nach 1 Jahr wert, wenn es um 5% steigt: 30 + 0.05 * 30. Es ist einfacher, wenn man das ausklammert, da 30 + 0.05 * 30 = 30*(1+ 0.05) = 30 * 1.05. <b>D.h. wenn etwas um n Prozent steigt, addiert man 1 zu der Prozentzahl und multipliziert damit</b>. Ein Betrag von 30 Euro, der in 1 Jahr um 5% steigt, ergibt 30 * 1.05 = 31.5 Euro.\n",
    "\n",
    "Berechnen Sie für die folgenden Zahlen, den entsprechenden Preis, wenn noch 19% Mehrwertsteuer dazu kommt."
   ]
  },
  {
   "cell_type": "code",
   "execution_count": null,
   "id": "98b16202-6c08-41f1-ba79-ab63dea3c294",
   "metadata": {},
   "outputs": [],
   "source": [
    "Preis_15_Euro_plus_Mehrwertsteuer == TODO\n",
    "Preis_1_Euro_plus_Mehrwertsteuer == TODO\n",
    "Preis_1000_Euro_plus_Mehrwertsteuer == TODO"
   ]
  },
  {
   "cell_type": "markdown",
   "id": "90e52917-cfc8-4fb1-99f1-d1bcab39ba56",
   "metadata": {},
   "source": [
    "<b>Wenn etwas um n Prozent fällt, zieht man die Prozentzahl von 1 ab und multipliziert damit</b>. Wenn man zum Beispiel 3 Prozent von 50 Euro Schulden abgezahlt hat, muss man 50 * 0.97 rechnen, da 50 - 0.03 * 50 = 50 *  (1 - 0.03) = 50 * 0.97."
   ]
  },
  {
   "cell_type": "code",
   "execution_count": null,
   "id": "a50efc87-bf7f-4f20-9727-dd83834da596",
   "metadata": {},
   "outputs": [],
   "source": [
    "Betrag_von_50_Euro_nach_3_Prozent_Abzahlung == 50 * 0.97\n",
    "Betrag_von_50_Euro_nach_7_Prozent_Abzahlung == TODO\n",
    "Betrag_von_1000_Euro_nach_10_Prozent_Abzahlung == TODO"
   ]
  },
  {
   "cell_type": "markdown",
   "id": "ed1bdb8c-d637-45b2-b15f-188659f76afb",
   "metadata": {},
   "source": [
    "Prozentzahlen können auch größer als 100 werden. Die Regel, dass man 1 zu der Prozentzahl addiert oder abzieht, gilt auch dann noch. Berechnen Sie den Anteil der Bevölkerung unter der Armutsgrenze, wenn der in einem Land in einem Jahr um 50%, 100% oder 200% steigt und ursprünglich 7000 Menschen beträgt:"
   ]
  },
  {
   "cell_type": "code",
   "execution_count": null,
   "id": "079bddb5-176a-4f04-8a91-2d61c8620e81",
   "metadata": {},
   "outputs": [],
   "source": [
    "bei_50_Prozent_Wachstum == TODO\n",
    "bei_100_Prozent_Wachstum == TODO\n",
    "bei_200_Prozent_Wachstum == TODO"
   ]
  },
  {
   "cell_type": "markdown",
   "id": "b860a9c9-06ca-4981-8585-f1ab102b0c5a",
   "metadata": {},
   "source": [
    "<h2>Prozentrechnung ohne Taschenrechner</h2>\n",
    "\n",
    "Im Kopf kann man natürlich genauso rechnen wie mit einem Taschenrechner, aber dann ist es oft einfacher, wenn man die Prozentzahl als Bruch darstellt und so kürzt, dass oben eine 1 steht. Zum Beispiel gilt 5% = $\\frac{5}{100}$ = $\\frac{1}{20}$. Anstatt mit 5% zu multiplizieren, kann man also auch durch 20 teilen. <b>Anstatt mit n% zu multiplizieren, kann man auch den Kehrtwert bilden, d.h. 100:n berechnen und dadurch teilen.</b> Also entspricht 5% dem Teilen durch 20. Zum Beispiel ist 5% von 40 das Gleiche wie 40 : 20 = 2. "
   ]
  },
  {
   "cell_type": "code",
   "execution_count": null,
   "id": "566e0db5-6f2a-4c4f-861a-d51414bc9ec8",
   "metadata": {},
   "outputs": [],
   "source": [
    "Durch_dies_teilen_entspricht_5_Prozent == 20\n",
    "Durch_dies_teilen_entspricht_33_Prozent == TODO\n",
    "Durch_dies_teilen_entspricht_20_Prozent == TODO\n",
    "Durch_dies_teilen_entspricht_50_Prozent == TODO\n",
    "Durch_dies_teilen_entspricht_2_Prozent == TODO"
   ]
  },
  {
   "cell_type": "markdown",
   "id": "eef25030-d742-4afa-9594-5e02523d8fe9",
   "metadata": {},
   "source": [
    "<b>Wenn etwas um n Prozent steigt, addiert man den Prozentwert zu dem ursprünglichen Wert. Wenn etwas um n Prozent fällt, subtrahiert man den Prozentwert von dem ursprünglichen Wert.</b> Zum Beispiel, wenn 30 Euro um 5 Prozent steigt, berechnet man 30 + 30 : 20 = 30 + 1.5 = 31.5. Wenn 30 Euro um 5 Prozent fällt, berechnet man 30 - 30 : 20 = 30 - 1.5 = 28.5.\n",
    "\n",
    "<h3>Aufgabe</h3>\n",
    "\n",
    "Vergleichen Sie, wie in diesem und im vorigen Abschnitt ein Wachstum um 5% berechnet wurde. Überzeugen Sie sich davon, dass beide Rechenwege äquivalent zueinander sind, d.h. egal, welchen Rechenweg man benutzt, kommt das gleiche Ergebnis heraus."
   ]
  },
  {
   "cell_type": "markdown",
   "id": "78456292-8867-4de6-a8a8-4c2e78292b84",
   "metadata": {},
   "source": [
    "<h2>Tipps um Fehler zu vermeiden</h2>\n",
    "\n",
    "<b>1. Schätzen Sie die Werte, bevor Sie rechnen. Wenn Sie nicht wissen, ob Sie multiplizieren oder teilen müssen, achten Sie darauf, ob die Werte laut Schätzung größer oder kleiner werden müssen.<br>\n",
    "2. Überprüfen Sie Ihre Rechnung ggf, indem Sie die Rechnung ausführen und dann umkehren, so dass Sie zum Schluss wieder den ursprünglichen Wert erhalten.</b>\n",
    "\n",
    "<h2>Beispiel: Brutto-Netto-Rechnungen</h2>\n",
    "\n",
    "\"Brutto\" heißt bevor Steuern u.a. abgezogen wurden, \"netto\" heißt nachdem alles andere abgezogen wurde. Bruttowerte sind also immer größer als Nettowerte. Leider ist es im Leben meistens so, dass das, was Sie bezahlen (zB. Rechnungen), brutto ist und das, was Sie erhalten (zB. Gehalt), netto ist!\n",
    "\n",
    "Dabei ergeben sich andere Werte je nachdem, ob man mit dem Bruttowert beginnt und abzieht oder mit dem Nettowert beginnt und hinzufügt. Wenn man von 50 Euro 19% abzieht, so erhält man 50 * 0.81 = 40.5. Wenn man dann aber wieder 19% hinzufügt, so erhält man 40.5 * 1.19 = 48.195, also weniger als 50 Euro. <b>Das Ergebnis der Prozentrechnung ist nämlich immer relativ zu der Zahl, von der man die Prozente berechnet.</b> Die Mehrwertsteuer wird so berechnet, dass sie dem Nettowert hinzugefügt wird. Wenn Sie das umkehren wollen, zB. eine Rechnung 50 Euro (brutto) beträgt und Sie den Nettowert berechnen wollen, dürfen Sie nicht einfach 19% abziehen. Stattdessen müssen für den unbekannten Wert x annehmen, dass\n",
    "x * 1.19 = 50. Die Gleichung können Sie dann nach x auflösen. Der Nettowert bezüglich der Mehrwertsteuer ist in diesem Fall also 50 : 1.19 = 42.02."
   ]
  },
  {
   "cell_type": "code",
   "execution_count": null,
   "id": "36d6ab48-4e98-464a-815a-5deb2d0b03d9",
   "metadata": {},
   "outputs": [],
   "source": [
    "# 19% von 50 abziehen:\n",
    "50 - 50 * 0.19 \n",
    "50 * 0.81\n",
    "# den Nettopreis für 50 Euro berechnen\n",
    "50 / 1.19\n",
    "# den Bruttopreis für 42.02 Euro berechnen\n",
    "42.02 * 1.19"
   ]
  },
  {
   "cell_type": "markdown",
   "id": "e0f6ff1a-b459-4928-9385-f7d773b34de1",
   "metadata": {},
   "source": [
    "Im Unterschied zur Mehrwertsteuer, die dem Nettowert hinzugefügt wird, wird die Einkommensteuer so berechnet, dass sie vom Bruttowert abgezogen wird. Angenommen die Einkommensteuer beträgt 12% und das Bruttogehalt ist 3000 Euro, was ist dann das Nettogehalt:"
   ]
  },
  {
   "cell_type": "code",
   "execution_count": null,
   "id": "a793e036-3ef8-45d2-b8a1-88d1b4183477",
   "metadata": {},
   "outputs": [],
   "source": [
    "Nettogehalt == TODO"
   ]
  },
  {
   "cell_type": "markdown",
   "id": "57c11e33-eb5e-4ec2-a670-75ac232098dd",
   "metadata": {},
   "source": [
    "Angenommen die Einkommensteuer beträgt 12% und das Nettogehalt ist 2600 Euro. Was ist dann das Bruttogehalt:"
   ]
  },
  {
   "cell_type": "code",
   "execution_count": null,
   "id": "d8edea49-8bec-4767-abc4-a8e68a56eb9d",
   "metadata": {},
   "outputs": [],
   "source": [
    "Bruttogehalt == TODO"
   ]
  },
  {
   "cell_type": "markdown",
   "id": "fd2595c2-702c-4244-97f6-b6639c75c023",
   "metadata": {},
   "source": [
    "<b>Aufgaben:</b> \n",
    "1. Wenn die Einkommensteuer so berechnet würde, dass sie dem Nettogehalt hinzugefügt würde (so wie die Mehrwertsteuer), wäre Ihr Nettogehalt (bei gleichem Prozentsatz und gleichem Bruttogehalt) dann höher oder niedriger als es tatsächlich derzeit ist?\n",
    "2. Schauen Sie sich Ihre letzte Stromrechnung an und rechnen Sie nach, was die tatsächlichen Kosten des Stroms pro kWh sind und was die Brutto- und Nettobeträge sind."
   ]
  },
  {
   "cell_type": "markdown",
   "id": "7ddb23a4-5def-41b3-b655-a575eb95d6fc",
   "metadata": {},
   "source": [
    "<h2>Beispiel: Aufpassen bei der Berechnung von Wachstums-Werten</h2>\n",
    "    \n",
    "Falls Sie irgendwann mal überlegen Aktien zu kaufen, finden Sie dazu manchmal irreführende graphische Darstellungen. Wenn das Wachstum als Prozent dargestellt ist, kann es so aussehen, als ob die Aktie insgesamt immer steigt, auch wenn der Wert tatsächlich fällt. Schauen Sie sich dazu dieses Bild an:\n",
    "<p>\n",
    "<img src=\"https://upriss.github.io/educaJS/images/aktien.png\" width=\"500\">\n",
    "</p>\n",
    "In dem Bild ist eine Aktie dargestellt, die jedes Jahr erst 25% fällt und dann 30% wächst. Wenn man die Prozentzahlen (links) aneinander fügt, sieht es so aus, als ob der Wert steigt. Die tatsächlichen Werte (rechts) fallen aber. Wie oben schon gesagt wurde, ist <b>das Ergebnis der Prozentrechnung aber immer relativ zu der Zahl, mit der man rechnet</b>. D.h. 30% von einer größeren Zahl ist mehr als 30% von einer kleineren Zahl. Anhand der Aktie in dem Bild berechnen Sie den Wert einer Aktie, die Sie für 100 Euro gekauft haben, nach 3 Jahren:"
   ]
  },
  {
   "cell_type": "code",
   "execution_count": null,
   "id": "b629fb3c-7425-4e58-b23c-b05984db1e5f",
   "metadata": {},
   "outputs": [],
   "source": [
    "Aktie_Nach_3_Jahren == TODO"
   ]
  },
  {
   "cell_type": "markdown",
   "id": "73a9ea17-5590-4f4c-a78a-d0212eb0ade4",
   "metadata": {},
   "source": [
    "<h2>Testen Sie Ihr Wissen zur Prozentrechnung</h2>"
   ]
  },
  {
   "cell_type": "code",
   "execution_count": null,
   "id": "f9e7907e-30f1-4b9b-bfd6-2f2486cafe0c",
   "metadata": {},
   "outputs": [],
   "source": [
    "%%html \n",
    "<iframe src=\"quizzes/vorkursProzent.html\" width= 100% height=1800></iframe>"
   ]
  },
  {
   "cell_type": "code",
   "execution_count": null,
   "id": "e7169faf-e150-4f8d-a3ca-cd2d76a7028a",
   "metadata": {},
   "outputs": [],
   "source": []
  }
 ],
 "metadata": {
  "kernelspec": {
   "display_name": "Python 3 (ipykernel)",
   "language": "python",
   "name": "python3"
  },
  "language_info": {
   "codemirror_mode": {
    "name": "ipython",
    "version": 3
   },
   "file_extension": ".py",
   "mimetype": "text/x-python",
   "name": "python",
   "nbconvert_exporter": "python",
   "pygments_lexer": "ipython3",
   "version": "3.10.8"
  }
 },
 "nbformat": 4,
 "nbformat_minor": 5
}
