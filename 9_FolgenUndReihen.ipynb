{
 "cells": [
  {
   "cell_type": "code",
   "execution_count": null,
   "id": "ef2a860b-ea8e-438b-bb1c-88d7eb379de4",
   "metadata": {},
   "outputs": [],
   "source": [
    "from utils.vorkurs import *"
   ]
  },
  {
   "cell_type": "markdown",
   "id": "d7fd0068-a67c-4e74-9760-f76dc5f112d8",
   "metadata": {
    "tags": []
   },
   "source": [
    "<h2>Folgen und Reihen</h2>\n",
    "\n",
    "In der Mathematik behandelt man gelegentlich Konstrukte, die nach einer Regel strukturiert sind und in einer Reihenfolge aufgelistet, summiert, multipliziert oder anders verarbeitet werden. Wenn man die Elemente auflistet nennt man das eine <b>Folge</b>, wenn man die Elemente dabei noch addiert, nennt man das eine <b>Reihe</b>. Zum Beispiel:\n",
    "\n",
    "Folge der geraden Zahlen: 2, 4, 6, 8, 10, ...<br>\n",
    "Folge der Primzahlen: 2, 3, 5, 7, 11, ...<br>\n",
    "eine Reihe: 1 + 2 + 3 + 4 + ...<br>\n",
    "noch eine Reihe: 2 + 3 + 5 + 7 + 11 + ...\n",
    "\n",
    "Falls Sie schon programmieren können, würden Sie so etwas mit einer For-Schleife programmieren. Allerdings müssen Schleifen in der Programmierung immer nach endlich vielen Schritten aufhören, in der Mathematik können sie auch unendlich sein. Folgende Schreibweisen gibt es:\n",
    "\n",
    "$\\sum_{i=1}^{10} i^2$ bedeutet, dass von i=1 bis i=10 die Zahlen $i^2$ aufsummiert werden, also: \n",
    "\n",
    "$\\sum_{i=1}^{10} i^2 = 1 + 4 + 9 + 16 + 25 + 36 + 49 + 64 + 81 + 100$\n"
   ]
  },
  {
   "cell_type": "markdown",
   "id": "83d106f4-dd85-4ce3-beef-bd24389e0c06",
   "metadata": {
    "jp-MarkdownHeadingCollapsed": true,
    "tags": []
   },
   "source": [
    "<h3>Eine Gauss-Anekdote</h3>\n",
    "\n",
    "Manchmal gibt es Formeln, mit denen man solche Summen berechnen kann, ohne alle einzelnen Werte zu addieren. Der berühmte Braunschweiger Mathematiker Carl Friedrich Gauss hat diese Formel angeblich schon als Schulkind bewiesen:\n",
    "\n",
    "$\\sum_{i=1}^{n} i =  1 + 2 + 3 + ... + n = \\frac{n(n + 1)}{2}$\n",
    "\n",
    "Die Gauss-Anekdote besagt, dass der Lehrer seine Ruhe haben wollte und daher den Schulkindern die Aufgabe gab, die Zahlen von 1 bis 100 zu addieren. Der kleine Gauss war damit schon nach ein paar Minuten fertig, da er sich überlegte, dass man die Zahlen so anordnen kann, dass man die erste mit der letzten addiert, die zweite mit der vorletzten und so weiter:\n",
    "\n",
    "$1 + 2 + 3 + \\ldots + (n-2) + (n-1)  + n = $<br>$\n",
    "(1 + n) + (2 + (n-1)) + (3 + (n-2)) + \\ldots  = $<br>$ \n",
    "(1 + n) + (1 + n) + (1 + n) + \\ldots = \\frac{n}{2}(1 + n)$\n",
    "\n",
    "Alternativ kann man das auch geometrisch beweisen:\n",
    "\n",
    "<center><img width=220 src='https://upriss.github.io/educaJS/images/visual2.png'></center>\n",
    "\n",
    "Und hier ist noch eine weitere Reihe, für die es eine Formel\n",
    "und einen geometrischen Beweis gibt:\n",
    "\n",
    "$\\sum_{i=1}^{n}2i +1 = n^2$ \n",
    "\n",
    "<center><img width=220 src='https://upriss.github.io/educaJS/images/visual1.png'></center>"
   ]
  },
  {
   "cell_type": "markdown",
   "id": "bec194cc-7503-44d3-b533-6431b2e61c2f",
   "metadata": {
    "tags": []
   },
   "source": [
    "<h3>Aufgaben</h3>\n",
    "\n",
    "1. Schreiben Sie $\\sum_{i=1}^{10} 2i+1$ ohne Summenzeichen. (Das müsste Ihnen helfen, den geometrischen Beweis zu verstehen.)<br>\n",
    "2. Schreiben Sie $x_1 + x_2 + x_3 + x_4$ mit Summenzeichen.\n"
   ]
  },
  {
   "cell_type": "markdown",
   "id": "8dc3c827-9b0d-4b4b-9bb9-7ae1d1ba4a90",
   "metadata": {
    "tags": []
   },
   "source": [
    "<h3>Produkte</h3>\n",
    "\n",
    "Statt addieren kann man auch wiederholt multiplizieren:\n",
    "\n",
    "$\\prod_{i=1}^{10} i^2 = 1 * 4 * 9 * 16 * 25 * 36 * 49 * 64 * 81 * 100$\n",
    "\n",
    "Wenn es sich dabei um ein Produkt der ersten n natürlichen Zahlen handelt, so wird das auch als Fakultät bezeichnet und als n! geschrieben:\n",
    "\n",
    "$n! = 1 * 2 * 3 * 4 * ... * n = \\prod_{i=1}^{n} i$ \n",
    "\n",
    "In Python erhält man $n!$ als \"factorial(n)\". Im nächsten Feld sehen Sie ein paar Beispiele. Wie Sie sehen, wachsen die Werte sehr schnell an."
   ]
  },
  {
   "cell_type": "code",
   "execution_count": null,
   "id": "1192e089-947c-478a-9235-bd5bac318508",
   "metadata": {},
   "outputs": [],
   "source": [
    "factorial(0)\n",
    "factorial(1)\n",
    "factorial(2)\n",
    "factorial(3)\n",
    "factorial(4)\n",
    "factorial(20)"
   ]
  },
  {
   "cell_type": "code",
   "execution_count": null,
   "id": "94bffa4f-d764-4cea-aa94-93d761f1ccc7",
   "metadata": {},
   "outputs": [],
   "source": []
  }
 ],
 "metadata": {
  "kernelspec": {
   "display_name": "Python 3 (ipykernel)",
   "language": "python",
   "name": "python3"
  },
  "language_info": {
   "codemirror_mode": {
    "name": "ipython",
    "version": 3
   },
   "file_extension": ".py",
   "mimetype": "text/x-python",
   "name": "python",
   "nbconvert_exporter": "python",
   "pygments_lexer": "ipython3",
   "version": "3.10.8"
  }
 },
 "nbformat": 4,
 "nbformat_minor": 5
}
