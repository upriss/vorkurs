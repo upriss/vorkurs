{
 "cells": [
  {
   "cell_type": "code",
   "execution_count": null,
   "id": "186b8aab-0bfd-44b7-9efa-480705257d42",
   "metadata": {},
   "outputs": [],
   "source": [
    "from utils.vorkurs import *"
   ]
  },
  {
   "cell_type": "markdown",
   "id": "3b82391d-6f89-4cb6-9468-21eb0c00ae47",
   "metadata": {},
   "source": [
    "<h2>Mengen</h2>\n",
    "\n",
    "Mengen sind Ansammlungen von <b>Elementen</b>, zum Beispiel $\\mathbb{N}$ die Menge der natürlichen Zahlen, $\\mathbb{R}$ die Menge der reellen Zahlen oder {1,2,17} die Menge, die die Zahlen 1, 2 und 17 enthält. Wenn es bei Gleichungen mehr als eine Zahl gibt, die die Gleichung lösen, so bilden diese Zahlen eine <b>Lösungsmenge</b> der Gleichung."
   ]
  },
  {
   "cell_type": "markdown",
   "id": "e96c06a6-bd74-44cf-92c9-1c11639882bd",
   "metadata": {},
   "source": [
    "<h2>Mengenoperatoren</h2>\n",
    "\n",
    "Hier zunächst eine Übersicht:\n",
    "\n",
    "<table cellpadding=5 border=1>\n",
    "<tr>\n",
    "    <td>mathematische Notation</td>\n",
    "    <td>Python-Notation</td>\n",
    "    <td>Bedeutung</td>\n",
    "    <tr>\n",
    "                <td>$\\in$</td>\n",
    "                <td>in</td>\n",
    "                <td>Element in Menge</td></tr>\n",
    "            <tr>\n",
    "                <td>$\\cup$</td>\n",
    "                <td>|</td>\n",
    "                <td>Vereinigung</td></tr>\n",
    "            <tr>\n",
    "                <td>$\\cap$</td>\n",
    "                <td>&</td>\n",
    "                <td>Schnittmenge</td></tr>\n",
    "            <tr>\n",
    "                <td>=</td>\n",
    "                <td>==</td>\n",
    "                <td>Gleich</td></tr>\n",
    "            <tr>\n",
    "                <td>$\\not=$</td>\n",
    "                <td>!=</td>\n",
    "                <td>Ungleich</td></tr>\n",
    "            <tr>\n",
    "                <td>$\\subseteq$</td>\n",
    "                <td>&lt;=</td>\n",
    "            <td>Teilmenge</td></tr>\n",
    "</table>\n",
    "\n",
    "Mit $\\in$ prüft man, ob ein Element zu einer Menge gehört. Überlegen Sie erst, ob die folgenden Beispiele True oder False sind, bevor Sie das nächste Feld ausführen:\n",
    "\n",
    "$1 \\in \\{1,2,3\\}$\n",
    "\n",
    "$1.000001 \\in \\{1,2,3\\}$"
   ]
  },
  {
   "cell_type": "code",
   "execution_count": null,
   "id": "bcc0cae6-908a-4750-ab71-8c1955f59090",
   "metadata": {},
   "outputs": [],
   "source": [
    "1 in {1,2,3}\n",
    "1.000001 in {1,2,3}"
   ]
  },
  {
   "cell_type": "markdown",
   "id": "a1bde909-3b60-4abb-bd5b-58a09e45b10d",
   "metadata": {},
   "source": [
    "Die Elemente müssen keine Zahlen sein, sondern können auch Buchstaben, Autos, Strings, Menschen oder sonst irgendetwas sein. Zum Rechnen muss man sie nur irgendwie aufschreiben können. (Die Buchstaben m, n, o, p sind in diesem Kurs als Variablen vordefiniert. Falls Sie andere Buchstaben verwenden wollten, müssten Sie die erst als Variablen definieren.)\n"
   ]
  },
  {
   "cell_type": "code",
   "execution_count": null,
   "id": "3dd326fa-f8f7-46f9-8da3-28eaf0b06021",
   "metadata": {},
   "outputs": [],
   "source": [
    "{1,2,m,'Hallo'}"
   ]
  },
  {
   "cell_type": "markdown",
   "id": "8e4c062d-d2e7-491b-89d7-a4fa60cc9b92",
   "metadata": {},
   "source": [
    "Jedes Element kommt in einer Menge maximal einmal vor. Die Reihenfolge, in der die Elemente geschrieben werden, ist egal."
   ]
  },
  {
   "cell_type": "code",
   "execution_count": null,
   "id": "fbb027d8-7dec-4ca1-aa6e-1d6221557591",
   "metadata": {},
   "outputs": [],
   "source": [
    "{m,1,2,2,3,3,3,n,o,m,m}"
   ]
  },
  {
   "cell_type": "markdown",
   "id": "d10e823b-59ff-400b-914d-0de56b4e7244",
   "metadata": {},
   "source": [
    "Wie viele Elemente haben die folgenden Mengen?  Überlegen Sie bei den folgenden Beispielen erst, was herauskommt, bevor Sie das Feld ausführen."
   ]
  },
  {
   "cell_type": "code",
   "execution_count": null,
   "id": "cefd5c1d-abfd-4d7f-aa39-6a286eb77291",
   "metadata": {},
   "outputs": [],
   "source": [
    "{10,20,30,40,50,\"n\",10,20}\n",
    "{10,20,10+10,2*10}\n",
    "{0,1}\n",
    "{\"m\",m}"
   ]
  },
  {
   "cell_type": "markdown",
   "id": "2fac8ee5-8489-4c46-8dd9-b013e70903ff",
   "metadata": {},
   "source": [
    "Die Vereinigung (oder Vereinigungsmenge) zweier Mengen enthält alle Elemente, die in einer der beiden Mengen sind, und wird mit dem Operator $\\cup$ gebildet. Der Schnitt (oder die Schnittmenge, die Durchschnittsmenge) enthält alle Elemente, die in einer der beiden Mengen sind, und wird mit dem Operator $\\cap$ gebildet. Als Merkhilfe für die Unterscheidung zwischen $\\cup$ und $\\cap$ kann man sich vorstellen, dass $\\cup$ wie ein Behälter aussieht, der viele Elemente sammelt, bei $\\cap$ fällt dagegen vieles heraus. Überlegen Sie wieder erst, bevor Sie das Feld ausführen."
   ]
  },
  {
   "cell_type": "code",
   "execution_count": null,
   "id": "582d36de-7c07-4669-9e2c-104fa9654cd1",
   "metadata": {},
   "outputs": [],
   "source": [
    "{1,3,5} | {2,4,6,n}      # Vereinigung\n",
    "{1,2,3,4,5} | {2,4,6}\n",
    "{1} | {1}\n",
    "{1,2,m,3,4,5} & {2,4,6,m}  # Schnitt\n",
    "{1,2,5} & {2,3,4,5,6}"
   ]
  },
  {
   "cell_type": "markdown",
   "id": "5e5033f5-4689-4cd7-91f6-71cae394583a",
   "metadata": {},
   "source": [
    "Man kann überprüfen, ob Mengen gleich oder ungleich sind:"
   ]
  },
  {
   "cell_type": "code",
   "execution_count": null,
   "id": "b2d0d6e6-98bf-4c7c-b79f-205b17a87e35",
   "metadata": {},
   "outputs": [],
   "source": [
    "{1,3,5} == {2,4,6}\n",
    "{1,2,3,4,5} != {2,4,6}\n",
    "{m,n,o} == {o,n,m}\n",
    "{1,m} == {m,1,1}"
   ]
  },
  {
   "cell_type": "markdown",
   "id": "c0bb8bf6-5c0f-4fed-a0a8-3652cd7afa96",
   "metadata": {},
   "source": [
    "Eine Menge A ist eine Teilmenge einer anderen Menge B, wenn alle Elemente von A auch in B enthalten sind: "
   ]
  },
  {
   "cell_type": "code",
   "execution_count": null,
   "id": "287d4b55-af77-4d77-9c7d-e3e32bb5aa92",
   "metadata": {},
   "outputs": [],
   "source": [
    "{2,4,6} <= {1,2,3,4,5}\n",
    "{1,3,5} <= {1,2,3,4,5}\n",
    "{'hallo'} <= {'hallo','Guten Tag'}"
   ]
  },
  {
   "cell_type": "markdown",
   "id": "674ff396-e18c-4499-af2b-a810b6a6f645",
   "metadata": {},
   "source": [
    "<h2>Mengenkonstruktoren</h2>\n",
    "\n",
    "Anstatt die Elemente von Mengen aufzuzählen, kann man kann man Mengen auch mit logischen Bedingungen definieren:\n",
    "\n",
    "$\\{ x \\mid -5 \\leq x < 6\\}$<br>\n",
    "$\\{ x \\mid -5 \\leq x < 6$ und $x$ ist gerade$\\}$<br>\n",
    "$\\{ 2x \\mid -5 \\leq x < 6\\}$<br>\n",
    "$\\{(x,y) \\mid -5 \\leq x < 1 $ und $ 0 \\leq y < 6$ und $ x = (-1)*y\\}$\n",
    "\n",
    "Dabei kann man als Bedingung alles verwenden, was man logisch eindeutig aufschreiben kann. Eine Einführung in Logik ist allerdings nicht in diesem Vorkurs enthalten. Die folgenden Beispiele zeigen, dass das in Python ähnlich aussieht. Um das komplett zu verstehen, bräuchten Sie vermutlich noch viel mehr Informationen über Python. Die Beispiele dienen hier also nur zur Illustration."
   ]
  },
  {
   "cell_type": "code",
   "execution_count": null,
   "id": "ed44d8c0-6120-4b6b-8e78-76ec96fb53df",
   "metadata": {},
   "outputs": [],
   "source": [
    "{x for x in range(-5,6)}\n",
    "{x for x in range(-5,6) if x % 2 == 0}\n",
    "{2*x for x in range(-5,6)}\n",
    "{(x,y) for x in range(-5,1) for y in range(0,6) if x == (-1)*y}"
   ]
  },
  {
   "cell_type": "markdown",
   "id": "fc8ac49f-7b5e-4ef8-8932-5ebac585acf4",
   "metadata": {},
   "source": [
    "Da Mengenlehre nicht unbedingt zum Schulstoff gehört, reicht diese sehr kurze Einführung an dieser Stelle. Weitere Details zur Mengenlehre und zur Logik werden Sie im Studium lernen."
   ]
  },
  {
   "cell_type": "markdown",
   "id": "6002d89d-7bf1-443a-b79c-c77291015e1e",
   "metadata": {},
   "source": [
    "<h2>Aufgaben</h2>\n",
    "\n",
    "Definieren Sie analog zu den Beispielen:\n",
    "\n",
    "1. Menge der Zahlen zwischen 1 und 20.\n",
    "\n",
    "2. Menge der ungeraden Zahlen zwischen 1 und 10.\n",
    "\n",
    "3. Menge der Quadratzahlen zwischen 1 und 20, d.h. Zahlen für die gilt: $x = y^2$\n",
    "\n",
    "4. Menge der geraden Zahlen zwischen 1 und 10 vereinigt mit der Menge der ungeraden Zahlen zwischen 20 und 30."
   ]
  },
  {
   "cell_type": "code",
   "execution_count": null,
   "id": "d8a5e6e9-41ff-4433-b269-ce95f3649ded",
   "metadata": {},
   "outputs": [],
   "source": []
  }
 ],
 "metadata": {
  "kernelspec": {
   "display_name": "Python 3 (ipykernel)",
   "language": "python",
   "name": "python3"
  },
  "language_info": {
   "codemirror_mode": {
    "name": "ipython",
    "version": 3
   },
   "file_extension": ".py",
   "mimetype": "text/x-python",
   "name": "python",
   "nbconvert_exporter": "python",
   "pygments_lexer": "ipython3",
   "version": "3.10.8"
  }
 },
 "nbformat": 4,
 "nbformat_minor": 5
}
