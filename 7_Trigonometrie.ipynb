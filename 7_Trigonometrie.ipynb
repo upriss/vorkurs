{
 "cells": [
  {
   "cell_type": "code",
   "execution_count": null,
   "id": "e6a3e892-566d-4e6a-a18d-bb2ff70d4606",
   "metadata": {},
   "outputs": [],
   "source": [
    "from utils.vorkurs import *"
   ]
  },
  {
   "cell_type": "markdown",
   "id": "6f150325-e1ed-4231-aa40-063a4d0a1979",
   "metadata": {},
   "source": [
    "<h2>Trigonometrie</h2>\n",
    "\n",
    "In der Trigonometrie werden die Beziehungen zwischen Seiten und Winkeln von Dreiecken untersucht, welche man zum Beispiel für die Berechnung von Entfernungen, Navigation, Winkeln und Schrägen benötigt. Für trigonometrische Funktionen gibt es außerdem Anwendungen bei der Modellierung von Wellen (Schallwellen, elektromagnetischen Wellen, Radiowellen, Herzrhythmen usw.). \n",
    "\n",
    "<h3>Grad- und Bogenmaß</h3>\n",
    "\n",
    "Winkel kann man in <b>Grad</b> messen oder auch als Länge eines Kreis<b>bogen</b>s. Aus der Geometrie ist bekannt, dass der Umfang eines Kreises $2\\pi r$ beträgt, wobei $r$ der Radius ist. Somit gilt im <b>Einheitskreis</b> (d.h. bei einem Kreis mit Radius 1), dass der Umfang $2\\pi$ beträgt. Ein 90$^\\circ$ Winkel teilt einen Kreis in 4 Viertel, welches im Einheitskreis einem Bogenmaß von $\\frac{2\\pi}{4} = \\frac{\\pi}{2}$ entspricht. Das folgende Bild zeigt weitere Beispiele von Winkeln und deren Grad- und Bogenmaß im Einheitskreis.\n",
    "\n",
    "<center><img src=\"https://upriss.github.io/educaJS/images/trigon.jpg\" width=\"40%\"></center>"
   ]
  },
  {
   "cell_type": "markdown",
   "id": "da9510a7-bca3-4f31-8bba-a6cc96eb4012",
   "metadata": {
    "tags": []
   },
   "source": [
    "<h3>Beziehungen in rechtwinkligen Dreiecken</h3>\n",
    "\n",
    "Trigonometrie beruht darauf, dass es in einem <b>rechtwinkligen Dreieck</b> feste Beziehungen zwischen Längen und Winkeln gibt. In einem rechtwinkligen Dreieck wird die Seite, die gegenüber dem rechten Winkel liegt, als <b>Hypotenuse</b> bezeichnet. Die anderen beiden Seiten heißen <b>Katheten</b>. Die Kathete gegenüber einem betrachteten Winkel $\\alpha$ heißt <b>Gegenkathete</b>, die andere <b>Ankathete</b>. (Da die Trigonometrie schon vor mehr als 2000 Jahren erfunden wurde, sind die Bezeichnungen griechisch).  \n",
    "\n",
    "<center><img src=\"https://upriss.github.io/educaJS/images/trigon1.png\" width=\"50%\"></center>"
   ]
  },
  {
   "cell_type": "markdown",
   "id": "e53d6bc0-5246-47c0-b8aa-e74443ce39b6",
   "metadata": {},
   "source": [
    "In einem rechtwinkligen Dreieck gelten für den Winkel $\\alpha$ mit den Bezeichnungen wie im obigen Bild die Beziehungen:\n",
    "\n",
    "<center>\n",
    "Sinus von $\\alpha$ = sin ($\\alpha$)  = $\\frac{g}{h}$<br>\n",
    "Kosinus von $\\alpha$ = cos ($\\alpha$)  = $\\frac{a}{h}$<br>\n",
    "Tangens von $\\alpha$ = tan ($\\alpha$)  = $\\frac{g}{a}$\n",
    "</center>\n",
    "    \n",
    "<h3>Aufgabe</h3>\n",
    "\n",
    "Zeigen Sie, dass $\\frac{sin(\\alpha)}{cos(\\alpha)} = {tan(\\alpha)}$ gilt."
   ]
  },
  {
   "cell_type": "markdown",
   "id": "b74da731-89b9-4cd2-99f4-dbfee6ac974f",
   "metadata": {},
   "source": [
    "<h3>Sinus und Kosinus-Werte</h3>\n",
    "\n",
    "Man kann ein rechtwinkliges Dreieck so in einen Einheitskreis zeichnen, dass die Hypothenuse dem Radius entspricht (d.h. Länge 1 hat). Dabei gibt es die Extremfälle für $\\alpha = 0^\\circ$,\n",
    "$= 90^\\circ$, = $180^\\circ$ und = $360^\\circ$, bei denen die drei Seiten des Dreiecks aufeinander fallen. In den Extremfällen ist dann jeweils einer der Werte (cos oder sin) gleich 0 und der andere gleich 1 oder -1. Ansonsten sind die Werte von cos und sin zwischen -1 und 1. \n",
    "\n",
    "<center><img src=\"https://upriss.github.io/educaJS/images/trigon2.png\" width=\"100%\"></center>\n",
    "\n",
    "<h3>Aufgabe</h3>\n",
    "\n",
    "1. Überlegen Sie sich anhand des Bilds, welche Werte sin und cos abhängig von $\\alpha$ ungefähr annehmen.\n",
    "\n",
    "Die Werte für einige Winkel (im Bogenmaß und Gradmaß) stehen in dieser Tabelle:\n",
    "\n",
    "<table>\n",
    "    <tr><th>$\\alpha$ <th>$0$ <th> $\\frac{\\pi}{6}$ <th>$\\frac{\\pi}{4}$\n",
    "        <th>$\\frac{\\pi}{3}$<th>$\\frac{\\pi}{2}$</tr>\n",
    "    <tr><th>$ $ <th>$0^{\\circ}$<th>$30^{\\circ}$<th>$45^{\\circ}$\n",
    "        <th>$60^{\\circ}$<th>$90^{\\circ}$</th>\n",
    "<tr><td>$sin(\\alpha)$ <td>$0$ <td> $\\frac{1}{2}$ <td>$\\frac{\\sqrt{2}}{2}$\n",
    "    <td>$\\frac{\\sqrt{3}}{2}$<td>$1$</td></tr>\n",
    "<tr><td>$cos(\\alpha)$ <td>$1$ <td> $\\frac{\\sqrt{3}}{2}$ \n",
    "    <td>$\\frac{\\sqrt{2}}{2}$<td>$\\frac{1}{2}$<td>$0$</td></tr>\n",
    "<tr><td>$tan(\\alpha)$<td>$0$ <td> $\\frac{\\sqrt{3}}{3}$ \n",
    "    <td>$1$<td>$\\sqrt{3}$<td>$-$</td></tr>\n",
    "</table>\n",
    "\n",
    "<h3>Aufgaben</h3>\n",
    "\n",
    "1. Überprüfen Sie die Tangenswerte aus der Tabelle anhand der Formel \n",
    "$\\frac{sin(\\alpha)}{cos(\\alpha)} = {tan(\\alpha)}$.\n",
    "\n",
    "2. Wenn Sie sich noch an Geometrie aus der Schule erinnern, können Sie die Werte für $30^{\\circ}$ und $60^{\\circ}$ bestimmen, indem Sie das Dreieck zu einem gleichseitigen Dreieck ergänzen und dann den Satz des Pythagoras anwenden.\n",
    "\n",
    "3. Was passiert bei Winkeln größer als $360^{\\circ}$ oder kleiner als $0^{\\circ}$?\n",
    "\n",
    "4. Wieso ist der Tangens von $90^{\\circ}$ nicht definiert?"
   ]
  },
  {
   "cell_type": "markdown",
   "id": "70bd7102-fd7e-4ae3-ba66-9e487414eaf9",
   "metadata": {},
   "source": [
    "Der Kehrwert des Tangens wird als Kotangens bezeichnet: $cot(\\alpha) = \\frac{1}{tan(\\alpha)}$. Man kann den Tangens und Kotangens auch am Einheitskreis visualisieren. Um genau zu verstehen, warum das folgende Bild richtig ist, müssen Sie aber aus der Geometrie wissen, wie man ähnliche Dreiecke erkennt (d.h. mit gleichen Winkeln und gleichen Seitenverhältnissen). Die trigonometrischen Werte sind in ähnlichen Dreiecken gleich. \n",
    "\n",
    "<center><img src=\"https://upriss.github.io/educaJS/images/trigon3.png\" width=\"40%\"></center>\n",
    "\n",
    "<h3>Aufgaben</h3>\n",
    "\n",
    "1. Überlegen Sie nochmal anhand des Bilds, wieso der Tangens von $\\alpha = 90^{\\circ}$ nicht definiert ist. \n",
    "\n",
    "2. Welcher Kotangenswert ist nicht definiert? \n",
    "\n",
    "3. Was passiert mit den Werten von Tangens und Kotangens, wenn der Winkel $\\alpha$ größer oder kleiner wird?\n",
    "\n",
    "<h3>Werte mit dem Computer berechnen</h3>\n",
    "\n",
    "Um sin, cos und tan in Python zu berechnen, müssen Sie die Werte im Bogenmaß angeben:"
   ]
  },
  {
   "cell_type": "code",
   "execution_count": null,
   "id": "0fb52851-33be-41c3-871d-6334f0b23e03",
   "metadata": {},
   "outputs": [],
   "source": [
    "sin(0)\n",
    "sin(pi/6)\n",
    "sin(pi/4)\n",
    "sqrt(2)/2"
   ]
  },
  {
   "cell_type": "markdown",
   "id": "59d296de-086f-4573-9ab0-d1a7638d0fb7",
   "metadata": {},
   "source": [
    "Werte im Gradmaß können Sie mit radians in Bogenmaß umwandeln. Werte im Bogenmaß können Sie mit degrees in Gradmaß umwandeln."
   ]
  },
  {
   "cell_type": "code",
   "execution_count": null,
   "id": "8f744f6d-ec53-4e72-98ba-415ce87e6b76",
   "metadata": {},
   "outputs": [],
   "source": [
    "radians(30)\n",
    "pi/6\n",
    "degrees(pi/6)\n",
    "sin(pi/6)\n",
    "sin(radians(30))"
   ]
  },
  {
   "cell_type": "markdown",
   "id": "42f60a96-99cd-4846-894c-ac7588c1086b",
   "metadata": {},
   "source": [
    "Die Funktionen lassen sich auch alle umkehren und heißen dann asin, acos und atan (ausgesprochen als Arkussinus usw.). Wenn Sie also einen Wert für sin, cos oder tan kennen, können Sie das jeweilige Bogen- oder Gradmaß berechnen:"
   ]
  },
  {
   "cell_type": "code",
   "execution_count": null,
   "id": "d66d684d-bcd6-4ec8-b252-91977fb62f32",
   "metadata": {},
   "outputs": [],
   "source": [
    "asin(0.5)\n",
    "pi/6\n",
    "asin(1)\n",
    "pi/2\n",
    "atan(1)\n",
    "pi/4"
   ]
  },
  {
   "cell_type": "markdown",
   "id": "be9b1d71-c299-4cc3-8773-af2526e56383",
   "metadata": {},
   "source": [
    "Für die Kehrwerte des Sinus und Kosinus gibt es auch Bezeichnungen, die aber selten verwendet werden. Außerdem gibt es noch einige Formeln und Rechenregeln, die Sie nachschlagen können, falls Sie sie brauchen und die hier nicht weiter erläutert werden.\n",
    "\n",
    "<h3>Testen Sie Ihr Wissen zur Trigonometrie</h3>\n",
    "\n",
    "1. Für welche Winkel ist der Sinus/Kosinus jeweils positiv oder negativ? Welche Werte kann der Tangens annehmen (ist der auch zwischen -1 und 1)?\n",
    "\n",
    "2. Wieso gilt $(sin(\\alpha))^2 + (cos(\\alpha))^2 = 1$?<br> Zumindest im Einheitskreis ist das leicht mithilfe des Satz des Pythagoras zu sehen. Zeigen Sie, dass die Gleichung auch dann gilt, wenn die Hypotenuse nicht gleich 1 ist, indem Sie die Formeln, mit denen sin und cos definiert sind, in den Satz des Pythagoras  einsetzen.\n",
    "\n",
    "3. Berechnen Sie, in welchem Winkel zum Dach Sie Photovoltaik-Module auf dem abgebildeten Dach anbringen müssen, wenn die Module einen Neigungswinkel von 48$^\\circ$ haben sollen (also etwas flacher geneigt als das gezeigte Dach). Rechnen Sie geometrisch und trigonometrisch und überprüfen Sie dann mit einem Winkelmesser (den Sie vermutlich aus Ihrer Schulzeit noch haben).\n",
    "\n",
    "<center><img src=\"https://upriss.github.io/educaJS/images/dach.png\" width=\"40%\"></center>"
   ]
  },
  {
   "cell_type": "code",
   "execution_count": null,
   "id": "50e578fa-2483-43a6-b86c-56f3c7efccb8",
   "metadata": {},
   "outputs": [],
   "source": []
  }
 ],
 "metadata": {
  "kernelspec": {
   "display_name": "Python 3 (ipykernel)",
   "language": "python",
   "name": "python3"
  },
  "language_info": {
   "codemirror_mode": {
    "name": "ipython",
    "version": 3
   },
   "file_extension": ".py",
   "mimetype": "text/x-python",
   "name": "python",
   "nbconvert_exporter": "python",
   "pygments_lexer": "ipython3",
   "version": "3.10.8"
  }
 },
 "nbformat": 4,
 "nbformat_minor": 5
}
