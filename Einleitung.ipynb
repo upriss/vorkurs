{
 "cells": [
  {
   "cell_type": "markdown",
   "id": "ebc62f40-7070-4f63-94e0-04be0ec92e9c",
   "metadata": {},
   "source": [
    "<h2>Über diesen Vorkurs</h2>\n",
    "\n",
    "Bücher zu mathematischen Vorkursen (zB. Grundwissen Mathematik oder Vorkurs Mathematik) haben zumeist mehrere Hundert Seiten. Es stellt sich die Frage, wie Sie eine derartige Fülle von Material in 2-3 Wochen wiederholen sollen. Falls Sie in der Schule mit Mathematik Schwierigkeiten hatten, stellt sich die weitere Frage, wie Sie jetzt in 2-3 Wochen etwas lernen sollen, was Sie in 12 Jahren Schule nicht gelernt haben. Meine Antwort auf diese Fragen ist, dass Sie strategisch vorgehen müssen. Sie brauchen sowohl generelle Lernstrategien als auch Strategien, die sich speziell auf Mathematik beziehen.\n",
    "\n",
    "<h2>Generelle Lernstrategien</h2>\n",
    "\n",
    "<ul>\n",
    "    <li>Machen Sie sich jetzt <b>einen Plan</b>, wie Sie diesen Vorkurs bearbeiten wollen. Wie viel Zeit wollen Sie einplanen und wann soll das sein? Wie wollen Sie eventuell priorisieren, falls Sie nicht genügend Zeit haben?</li>\n",
    "    <li><b>Reflektieren</b> Sie während Ihres Lernens. Konzentrieren Sie sich nicht nur auf die Inhalte, sondern auch auf Ihr Vorgehen. Was fällt Ihnen leicht, was schwer, was fördert oder behindert Ihre Motivation weiterzuarbeiten? Was genau ist Ihr persönliches Ziel für diesen Kurs?</li>\n",
    "    <li>Falls Sie Mathematik nie mochten oder sogar \"Angst\" vor Mathematik haben, reflektieren Sie Ihre Gefühle während des Kurs. Die didaktische Forschung belegt, dass es so etwas wie eine besondere \"Mathematikbegabung\" gar nicht gibt. Um in Mathematik erfolgreich zu sein, braucht man eine <b>positive Einstellung und viel Zeit zum Üben</b> und sonst nichts.</li> \n",
    "    <li>Legen Sie sich gleich mehrere <b>Dateien</b> an (oder Notizbücher, falls Sie lieber Papier benutzen) und überlegen Sie, was Sie eventuell schriftlich festhalten möchten (z.B. Formelsammlung, Beispielrechnungen, Übersicht über die Themen, Lerntagebuch).</li>\n",
    "    <li>Auch wenn Sie mit dem Rechner arbeiten, halten Sie einen <b>Schmierzettel</b> bereit für Beispielrechnungen, Zeichnungen u.a. Man denkt oft besser, wenn man einzelne Schritte zwischendurch schriftlich skizziert.</li>\n",
    "    <li>Überlegen Sie sich, ob Sie alleine lernen möchten oder vielleicht lieber in einer <b>Lerngruppe</b>. In der ersten Online-Besprechung werden Sie Gelegenheit haben, Lerngruppen zu bilden, falls Sie das möchten.</li>\n",
    "    </ul>\n",
    "    \n",
    "<h2>Besondere Strategien für die Mathematik</h2>\n",
    "\n",
    "Mathematische Inhalte sind oft komplex und abstrakt. Man braucht also manchmal viel Zeit, um nur ein paar Zeilen mathematischer Notation zu verstehen. Außerdem sind mathematische Inhalte auch sehr umfangreich, mit vielen, manchmal uneinheitlichen Notationen, die man sich auf lange Zeit merken muss, da sie immer wieder in anderen Kontexten benötigt werden. Dafür sind Formelsammlungen wichtig. Man braucht aber auch Strategien um damit umzugehen, dass man sich gar nicht alles merken kann, dass man nicht immer alles weiß und dass man trotzdem ein Ergebnis produzieren soll, bei dem man sich absolut sicher ist, dass es richtig ist. Wie geht das?\n",
    "\n",
    "<ul>\n",
    "    <li><b>Schätzen:</b> vor einer Rechnung schon überlegen, was ungefähr herauskommt. Wenn dann etwas komplett anderes herauskommt, hat man vermutlich falsch gerechnet.</li>\n",
    "    <li><b>Ausprobieren und durch Einsetzen überprüfen:</b> man muss Verfahren gar nicht immer anwenden. Manchmal kann man auch raten oder mit ein paar Beispielwerten ausprobieren. Wichtig ist, dass man dann anschließend durch Einsetzen überprüft, dass die Lösungswerte richtig sind und man sich dessen absolut sicher sein kann.</li>\n",
    "    <li><b>Mehrere Lösungswege probieren:</b> es gibt eigentlich immer mehrere Möglichkeiten etwas zu berechnen. Wenn etwas nicht funktioniert, kurz anhalten und überlegen, ob es noch andere Möglichkeiten gibt.</li>\n",
    "    <li><b>Durch Beispiele verstehen:</b> wenn man eine mathematische Aussage nicht gleich versteht, hilft es oft, Beispielwerte einzusetzen oder eine Zeichnung zu machen.</li>\n",
    "    <li><b>Merken und herleiten:</b> man kann sich nicht alles merken. Meistens ist es aber so, dass es generelle Prinzipien gibt, mit denen man einige Formeln oder Methoden aus anderen herleiten kann. Man braucht sich also nur das zu merken, was man nicht herleiten kann. Am besten beim Lernen gleich priorisieren: was ist wichtig, was muss man sich merken, was kann man herleiten?</li>\n",
    "    <li><b>Verfahren nicht blind anwenden:</b> gerade in der Schule werden viele Verfahren gelehrt, die dann in Klausuren schematisch wiederholt werden sollen. In der Praxis sind Probleme nicht immer so, dass sie direkt in ein Schema passen. Daher immer mitdenken, ob das, was man anwendet, überhaupt sinnvoll ist, oder ob man für ein Problem zusätzlich oder alternativ ein kreatives, logisches Herangehen benötigt. \n",
    "    <li><b>Hilfsmittel verwenden:</b> in der Praxis muss man viele Rechnungen nicht mehr von Hand ausführen. Es gibt Computer Algebra Software, die man sich installieren kann, und online Werkzeuge (zB GeoGebra), die Rechnungen automatisiert ausführen können. Wenn man nur einen Begriff oder ein Problem nicht verstanden hat, findet man im Internet oft schnell eine brauchbare Erklärung. Auch wenn solche Werkzeuge in einer Klausur nicht eingesetzt werden dürfen, können sie beim Lernen unterstützen. Wichtig ist aber immer, dass man sich trotz Hilfsmittel absolut sicher ist, dass ein Ergebnis richtig ist, weil man es durch Schätzen, Einsetzen, Nachrechen u.a. überprüfen kann.</li>\n",
    "    </ul>"
   ]
  },
  {
   "cell_type": "markdown",
   "id": "f4b240ac-7388-424b-93ae-c001c7f263ed",
   "metadata": {},
   "source": [
    "<h2>Computer Algebra Software in diesem Notebook</h2>\n",
    "\n",
    "In diesem Vorkurs wird Python als ein Computer Algebra System (CAS) verwendet, damit Sie Ihre Rechnungen überprüfen können und zum Teil mit hinterlegten Musterlösungen vergleichen können. Dafür sind ein paar Einstellungen in einer Datei utils.vorkurs hinterlegt. Um diese Datei zu laden, steht ganz oben in jedem Notebook ein Feld, das sie jedes Mal einmal ausführen müssen, wenn Sie ein Notebook öffnen. Felder führen Sie dadurch aus, dass Sie in ein Feld klicken und SHIFT-ENTER eingeben oder den Run-Knopf (&#9658;) anklicken. Tun Sie das jetzt für das nächste Feld:"
   ]
  },
  {
   "cell_type": "code",
   "execution_count": null,
   "id": "2bc4c95f-51b6-4107-9697-b26789867095",
   "metadata": {},
   "outputs": [],
   "source": [
    "from utils.vorkurs import *"
   ]
  },
  {
   "cell_type": "markdown",
   "id": "950c2a91-3c57-4f2d-8a56-c0bcc7d3b109",
   "metadata": {},
   "source": [
    "Bei diesem ersten Feld erscheint dann keine Ausgabe, aber links sollte jetzt eine Zahl stehen oder sich geändert haben.\n",
    "\n",
    "Sie brauchen für diesen Kurs nichts über Python zu wissen. Die Sprache wird nur wie ein etwas erweiterter Taschenrechner verwendet. \n",
    "\n",
    "Führen Sie jetzt das nächste Feld aus. Darunter sollten dann 3 Zeilen mit den 3 Ergebnissen erscheinen. "
   ]
  },
  {
   "cell_type": "code",
   "execution_count": null,
   "id": "e39b929b-66ab-4fe4-bb75-00b424b5038e",
   "metadata": {},
   "outputs": [],
   "source": [
    "3 + 2\n",
    "3 / 2\n",
    "3 * 2"
   ]
  },
  {
   "cell_type": "markdown",
   "id": "95c5f439-18b0-4d93-baed-2dddb63dc9cf",
   "metadata": {},
   "source": [
    "Sie können diese Notebooks auch selber verändern, Notizen einfügen und selber Rechnungen hinzufügen. Für Texte muss die Einstellung <i>Markdown</i> gewählt sein, für Rechnungen die Einstellung <i>Code</i>. Python hat viele mathematische Funktionen. Probieren Sie einige dieser Funktionen im Feld darunter aus (für $n, m$ und $x$ müssen Sie jeweils Zahlen einsetzen).\n",
    "\n",
    "<table>\n",
    "    <tr><th>Python<th>Bedeutung<th>mathematische Notation\n",
    "    <tr><td>** (zB. 4**2) <td>Exponentialfunktion<td> zB. $4^2$\n",
    "    <tr><td>sqrt(n) <td>Wurzel<td> $\\sqrt{n}$\n",
    "    <tr><td>e <td>die Zahl e<td>e\n",
    "    <tr><td>pi <td>die Zahl $\\pi$<td>$\\pi$    \n",
    "    <tr><td>factorial(n)  <td>Fakultät<td>n!\n",
    "    <tr><td>pow(x,y)<td>Exponentialfunktion<td>$x^n$\n",
    "    <tr><td>gcd(m,n)<td>größter gemeinsamer Teiler<td>ggT(m,n) \n",
    "    <tr><td>lcm(m,n)<td>kleinstes gemeinsames Vielfaches<td>kgV(m,n) \n",
    "    <tr><td>sin(x)<td>Sinus <td>sin(x)\n",
    "    <tr><td>cos(x)<td>Cosinus<td>cos(x)\n",
    "    <tr><td>tan(x)<td>Tangens<td>tan(x)\n",
    "    <tr><td><td> \n",
    "</table>"
   ]
  },
  {
   "cell_type": "code",
   "execution_count": null,
   "id": "c07222d2-7392-411f-b980-0f5fcff86ec1",
   "metadata": {},
   "outputs": [],
   "source": []
  }
 ],
 "metadata": {
  "kernelspec": {
   "display_name": "Python 3 (ipykernel)",
   "language": "python",
   "name": "python3"
  },
  "language_info": {
   "codemirror_mode": {
    "name": "ipython",
    "version": 3
   },
   "file_extension": ".py",
   "mimetype": "text/x-python",
   "name": "python",
   "nbconvert_exporter": "python",
   "pygments_lexer": "ipython3",
   "version": "3.10.8"
  }
 },
 "nbformat": 4,
 "nbformat_minor": 5
}
