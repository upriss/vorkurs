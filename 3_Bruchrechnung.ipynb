{
 "cells": [
  {
   "cell_type": "code",
   "execution_count": null,
   "id": "7512f892-9350-4638-9ac8-aaf4538a3826",
   "metadata": {},
   "outputs": [],
   "source": [
    "from utils.vorkurs import *"
   ]
  },
  {
   "cell_type": "markdown",
   "id": "1b169f6e-afde-412b-88a1-966de51c721e",
   "metadata": {
    "tags": []
   },
   "source": [
    "<h2>Testen Sie Ihre Vorkenntnisse</h2>\n",
    "\n",
    "Wenn Sie das folgende Feld ausführen, erhalten Sie einen Quiz, mit dem Sie Ihre Kenntnisse in diesem Gebiet überprüfen können. Wenn Sie die Aufgaben alle ohne Taschenrechner oder Python lösen können, brauchen Sie dieses Notebook nicht weiter zu bearbeiten."
   ]
  },
  {
   "cell_type": "code",
   "execution_count": null,
   "id": "1a597e88-89f4-46c3-8a8f-c61652562ef9",
   "metadata": {},
   "outputs": [],
   "source": [
    "%%html \n",
    "<iframe src=\"quizzes/vorkursBrueche.html\" width= 100% height=500></iframe>"
   ]
  },
  {
   "cell_type": "markdown",
   "id": "6baa25ad-7686-4b50-8988-445440241694",
   "metadata": {},
   "source": [
    "<h2>Bruchrechnung</h2>\n",
    "\n",
    "Ein Bruch ist eine abkürzende Schreibweise für die Division, zB 3/4 = $\\frac{3}{4}$. Die Zahl über dem Bruchstrich wird <b>Zähler</b> genannt, die Zahl unter dem Bruchstrich wird <b>Nenner</b> genannt.\n",
    "\n",
    "Die wichtigsten Regeln:\n",
    "<ul>\n",
    "    <li><b>Kürzen und erweitern</b>: man darf Zähler und Nenner gleichzeitig mit einer Zahl multiplizieren oder dividieren. Zum Beispiel:<br>\n",
    "        $\\frac{3}{4} = \\frac{3*6}{4*6} = \\frac{18}{24} = \\frac{18:2}{24:2} = \\frac{9}{12} = \\frac{9:3}{12:3} = \\frac{3}{4}$\n",
    "    <li><b>Brüche addieren und subtrahieren</b>: man darf Brüche nur addieren oder subtrahieren, wenn sie den gleichen Nenner haben. Zum Beispiel:<br> $\\frac{3}{4} + \\frac{7}{5} = \\frac{3*5}{4*5} + \\frac{7*4}{5*4} = \\frac{15}{20} + \\frac{28}{20} = \\frac{15 + 28}{20} = \\frac{43}{20}$.<br> Beispiel für Subtraktion:<br> $\\frac{3}{4} - \\frac{7}{5} = \\frac{3*5}{4*5} - \\frac{7*4}{5*4}= \\frac{15 - 28}{20} = -\\frac{13}{20}$\n",
    "    <li><b>Brüche multiplizieren</b>: Zähler und Nenner werden separat multipliziert. Zum Beispiel:<br> $\\frac{3}{4} * \\frac{7}{5} = \\frac{3*7}{4*5} = \\frac{21}{20}$.\n",
    "    <li><b>Brüche dividieren</b>: mit dem Kehrwert des zweiten Bruch multiplizieren. Zum Beispiel:<br> $\\frac{3}{4} : \\frac{7}{5} = \\frac{3}{4} * \\frac{5}{7} = \\frac{3*5}{4*7} = \\frac{15}{28}$.\n",
    "    <li>Dabei darf der <b>Nenner nie Null</b> sein.\n",
    "</ul>\n",
    "\n",
    "Sie können Ihre Rechnungen auf diesem Arbeitsblatt mit Python überprüfen. Aber\n",
    "Achtung: Python rechnet nicht mit hoher Genauigkeit. Daher ist es für die untenstehenden Aufgaben besser, sich die Werte einzeln anzeigen zu lassen anstatt mit == zu vergleichen. Zum Beispiel:"
   ]
  },
  {
   "cell_type": "code",
   "execution_count": null,
   "id": "3e03fc2a-cf7b-4480-ab85-a25e8ebd0087",
   "metadata": {},
   "outputs": [],
   "source": [
    "3/4 - 7/5\n",
    "-13/20\n",
    "3/4 - 7/5 == -13/20   # ist mathematisch True, aber im Computer falsch"
   ]
  },
  {
   "cell_type": "markdown",
   "id": "e32e264e-6b34-40bf-9715-28eafa42b5db",
   "metadata": {
    "tags": []
   },
   "source": [
    "<h3>Aufgaben</h3>\n",
    "\n",
    "$\\frac{5}{21} + \\frac{2}{3}$\n",
    "\n",
    "$\\frac{5}{7} * \\frac{2}{3}$\n",
    "\n",
    "$\\frac{7}{9} - \\frac{4}{3}$\n",
    "\n",
    "$\\frac{5}{7} : \\frac{2}{3}$\n",
    "\n",
    "Überprüfen Sie Ihre Ergebnisse:"
   ]
  },
  {
   "cell_type": "code",
   "execution_count": null,
   "id": "0d944745-27fd-4565-9e6f-4dee42e4d17e",
   "metadata": {},
   "outputs": [],
   "source": []
  },
  {
   "cell_type": "markdown",
   "id": "34303d9c-f972-4256-b211-cf2e4b6727ed",
   "metadata": {},
   "source": [
    "Vereinfachen Sie die folgenden Brüche:\n",
    "\n",
    "$\\frac{m^2-n^2}{o^2-p^2}:\\frac{m-n}{o+p}$\n",
    "\n",
    "$(m-n)(\\frac{1}{n}-\\frac{1}{m})$\n",
    "\n",
    "$\\frac{m}{no} + \\frac{n}{mo} + \\frac{o}{mn}$\n",
    "\n",
    "$\\frac{1+\\frac{1}{m+1}}{2 -\\frac{m-2}{m}}$\n",
    "\n",
    "Führen Sie das nächste Feld erst aus, nachdem Sie gerechnet haben. Dort werden Ihnen die Lösungen angezeigt."
   ]
  },
  {
   "cell_type": "code",
   "execution_count": null,
   "id": "e24ab337-d8ce-49e2-8b42-094de18bc0ba",
   "metadata": {},
   "outputs": [],
   "source": [
    "simplify(((m**2-n**2)/(o**2-p**2))/((m-n)/(o+p)))\n",
    "simplify((m-n)*(1/n-1/m))\n",
    "simplify(m/(n*o)+n/(m*o)+o/(m*n))\n",
    "simplify((1+1/(m+1))/(2-(m-2)/m))"
   ]
  },
  {
   "cell_type": "markdown",
   "id": "d37a50bb-aa51-4edc-a8e1-ec14698702f4",
   "metadata": {},
   "source": [
    "Welche Bedingungen für m, n, o und p müssen dabei jeweils erfüllt sein, so dass der Nenner nicht Null ist?"
   ]
  },
  {
   "cell_type": "markdown",
   "id": "6e0a9616-f0aa-4cf7-9898-f6d8c32670f1",
   "metadata": {},
   "source": [
    "<h2>Dezimalbrüche (Dezimalzahlen)</h2>\n",
    "\n",
    "Sie brauchen die Bruchrechnung mit Zähler und Nenner eigentlich nur, wenn Sie mit Formeln mit Buchstaben rechnen. Für Rechnungen mit Zahlen verwendet man in der Wissenschaft normalerweise immer Dezimalbrüche. D.h. anstatt mit $\\frac{3}{4}$ rechnet man mit 0.75, da $\\frac{3}{4} = 0.75$. In den meisten Programmiersprachen und auch in diesen Notebooks wird für Dezimalbrüche entsprechend der englischen Schreibweise ein <b> Punkt statt einem Komma verwendet</b>, d.h. 0.75 anstatt 0,75."
   ]
  },
  {
   "cell_type": "code",
   "execution_count": null,
   "id": "9570f1c5-f115-45be-9000-3a411a5b4d54",
   "metadata": {},
   "outputs": [],
   "source": [
    "3/4 == 0.75\n",
    "3/4 == 0,75   # dieses ist falsch\n",
    "0,75          # dieses ist keine Dezimalzahl"
   ]
  },
  {
   "cell_type": "markdown",
   "id": "e0f0b1cf-f8c0-466f-b865-815b20047f23",
   "metadata": {},
   "source": [
    "<h3>Aufgaben</h3>\n",
    "\n",
    "Überprüfen Sie die Brüche aus den Aufgaben aus dem ersten Teil, indem Sie sie als Dezimalbrüche schreiben. Runden Sie dabei auf 2 Stellen hinter dem Komma. Beispiel:\n",
    "$\\frac{3}{4} + \\frac{7}{5}$"
   ]
  },
  {
   "cell_type": "code",
   "execution_count": null,
   "id": "3ba37a86-0f3c-40c6-b82e-f78fbd4da015",
   "metadata": {},
   "outputs": [],
   "source": [
    "3/4\n",
    "7/5\n",
    "0.75 + 1.4\n",
    "43/20"
   ]
  },
  {
   "cell_type": "markdown",
   "id": "1fad8638-247c-4e1d-8219-88d0d36fc950",
   "metadata": {},
   "source": [
    "<h2>Prozentrechnung</h2>\n",
    "\n",
    "Prozentrechnung ist auch nur Bruchrechnung, da x% das Gleiche ist wie  $\\frac{x}{100}$. Aber dafür gibt es ein separates Notebook."
   ]
  },
  {
   "cell_type": "markdown",
   "id": "808b0e6f-fa44-40c5-b295-fabf795b2f5f",
   "metadata": {},
   "source": [
    "<h2>Mittelwert</h2>\n",
    "\n",
    "Der Mittelwert wird auch Durchschnittswert oder arithmetisches Mittel genannt. Man berechnet ihn, indem man Werte addiert und dann durch die Anzahl der Werte teilt. Wenn Sie zum Beispiel im Januar 35 Euro, im Februar 40 Euro und im März 39 Euro für Benzin ausgeben, dann geben Sie durchschnittlich $\\frac{35+40+39}{3} = 38$ Euro für Benzin aus.\n",
    "\n",
    "<h3>Aufgabe</h3>\n",
    "\n",
    "Berechnen Sie ein paar Durchschnittswerte Ihrer Ausgaben. Was geben Sie durchschnittlich pro Woche oder Monat für Wohnen, Essen, Unterhaltung, Fahrtkosten aus? Was sind Ihre durchschnittlichen wöchentlichen oder monatlichen Einnahmen? Falls Sie die einzelnen Werte nicht kennen, arbeiten Sie mit geschätzten Werten."
   ]
  },
  {
   "cell_type": "markdown",
   "id": "7ab0d9b9-9ea8-46d1-ab20-a682ca29c2b8",
   "metadata": {},
   "source": [
    "<h2>Reflektieren</h2> \n",
    "\n",
    "Vergessen Sie nicht, sich eine Formelsammlung anzulegen. Halten Sie jetzt auch einmal an, um über Ihr Lernen zu reflektieren. Welche Ziele haben Sie schon erreicht? Wie soll es weitergehen? Wie können Sie sich motivieren weiterzumachen? "
   ]
  },
  {
   "cell_type": "code",
   "execution_count": null,
   "id": "95b5c7f3-3a22-44f2-a2f4-4aa17a9506d8",
   "metadata": {},
   "outputs": [],
   "source": []
  }
 ],
 "metadata": {
  "kernelspec": {
   "display_name": "Python 3 (ipykernel)",
   "language": "python",
   "name": "python3"
  },
  "language_info": {
   "codemirror_mode": {
    "name": "ipython",
    "version": 3
   },
   "file_extension": ".py",
   "mimetype": "text/x-python",
   "name": "python",
   "nbconvert_exporter": "python",
   "pygments_lexer": "ipython3",
   "version": "3.10.8"
  }
 },
 "nbformat": 4,
 "nbformat_minor": 5
}
